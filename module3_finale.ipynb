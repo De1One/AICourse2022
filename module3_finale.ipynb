{
 "cells": [
  {
   "cell_type": "markdown",
   "id": "2148d1d0",
   "metadata": {
    "id": "2148d1d0",
    "pycharm": {
     "name": "#%% md\n"
    }
   },
   "source": [
    "Task 1"
   ]
  },
  {
   "cell_type": "code",
   "execution_count": 1,
   "id": "ede13793",
   "metadata": {
    "id": "ede13793",
    "pycharm": {
     "name": "#%%\n"
    }
   },
   "outputs": [],
   "source": [
    "import torch"
   ]
  },
  {
   "cell_type": "code",
   "execution_count": null,
   "id": "a6dda61a",
   "metadata": {
    "id": "a6dda61a",
    "pycharm": {
     "name": "#%%\n"
    }
   },
   "outputs": [],
   "source": [
    "a = torch.FloatTensor(3,4).uniform_(0, 1) \n",
    "b = torch.FloatTensor(12,).uniform_(0, 1) \n",
    "print(a)\n",
    "print(b)"
   ]
  },
  {
   "cell_type": "code",
   "execution_count": null,
   "id": "ac403b4d",
   "metadata": {
    "id": "ac403b4d",
    "pycharm": {
     "name": "#%%\n"
    }
   },
   "outputs": [],
   "source": [
    "c = b.reshape(2,2,3)\n",
    "print(c)"
   ]
  },
  {
   "cell_type": "code",
   "execution_count": null,
   "id": "9035aa1e",
   "metadata": {
    "id": "9035aa1e",
    "pycharm": {
     "name": "#%%\n"
    }
   },
   "outputs": [],
   "source": [
    "print(a[:,0])"
   ]
  },
  {
   "cell_type": "markdown",
   "id": "4668c20a",
   "metadata": {
    "id": "4668c20a",
    "pycharm": {
     "name": "#%% md\n"
    }
   },
   "source": [
    "Task 2"
   ]
  },
  {
   "cell_type": "code",
   "execution_count": null,
   "id": "3d55de0c",
   "metadata": {
    "id": "3d55de0c",
    "pycharm": {
     "name": "#%%\n"
    }
   },
   "outputs": [],
   "source": [
    "a = torch.FloatTensor(5,2).uniform_(0, 1) \n",
    "b = torch.FloatTensor(1,10).uniform_(0, 1) \n",
    "print(a)\n",
    "print(b)"
   ]
  },
  {
   "cell_type": "code",
   "execution_count": 6,
   "id": "d9bb1ecb",
   "metadata": {
    "id": "d9bb1ecb",
    "pycharm": {
     "name": "#%%\n"
    }
   },
   "outputs": [],
   "source": [
    "c = b.reshape(5,2)"
   ]
  },
  {
   "cell_type": "code",
   "execution_count": null,
   "id": "db9192ec",
   "metadata": {
    "id": "db9192ec",
    "pycharm": {
     "name": "#%%\n"
    }
   },
   "outputs": [],
   "source": [
    "print(a+c)\n",
    "print(a*c)\n",
    "print(a-c)\n",
    "print(a/c)\n",
    "print(a//c)\n",
    "print(a==c)\n",
    "print(a>c)\n",
    "print(a<c)"
   ]
  },
  {
   "cell_type": "markdown",
   "id": "a73fefb6",
   "metadata": {
    "id": "a73fefb6",
    "pycharm": {
     "name": "#%% md\n"
    }
   },
   "source": [
    "Task 3"
   ]
  },
  {
   "cell_type": "code",
   "execution_count": null,
   "id": "7088aa06",
   "metadata": {
    "id": "7088aa06",
    "pycharm": {
     "name": "#%%\n"
    }
   },
   "outputs": [],
   "source": [
    "images = torch.IntTensor(100,200,200,3).fill_(0)\n",
    "print(images)"
   ]
  },
  {
   "cell_type": "code",
   "execution_count": 12,
   "id": "12419450",
   "metadata": {
    "id": "12419450",
    "pycharm": {
     "name": "#%%\n"
    }
   },
   "outputs": [],
   "source": [
    "for i in range(0,len(images)):\n",
    "    images[i,i*2:i*2+2,:].fill_(255)"
   ]
  },
  {
   "cell_type": "code",
   "execution_count": 13,
   "id": "a7ae0bfb",
   "metadata": {
    "id": "a7ae0bfb",
    "pycharm": {
     "name": "#%%\n"
    }
   },
   "outputs": [],
   "source": [
    "import matplotlib.pyplot as plt"
   ]
  },
  {
   "cell_type": "code",
   "execution_count": null,
   "id": "9932c7a3",
   "metadata": {
    "id": "9932c7a3",
    "pycharm": {
     "name": "#%%\n"
    }
   },
   "outputs": [],
   "source": [
    "for i in range(0,100,10):\n",
    "  plt.imshow(images[i], interpolation='nearest')\n",
    "  plt.show()"
   ]
  },
  {
   "cell_type": "code",
   "execution_count": null,
   "id": "637da6ec",
   "metadata": {
    "id": "637da6ec",
    "pycharm": {
     "name": "#%%\n"
    }
   },
   "outputs": [],
   "source": [
    "plt.imshow((images.float().mean(axis=1)*70).int(), interpolation='nearest')\n",
    "plt.show()"
   ]
  },
  {
   "cell_type": "markdown",
   "id": "MtVML5oNbmP-",
   "metadata": {
    "id": "MtVML5oNbmP-",
    "pycharm": {
     "name": "#%% md\n"
    }
   },
   "source": [
    "Task 4"
   ]
  },
  {
   "cell_type": "code",
   "execution_count": 22,
   "id": "CCLeVLWkbnx7",
   "metadata": {
    "id": "CCLeVLWkbnx7",
    "pycharm": {
     "name": "#%%\n"
    }
   },
   "outputs": [],
   "source": [
    "def sigmoid(x):\n",
    "    return 1 / (1 + torch.exp(-x))\n",
    "\n",
    "def forward_pass(X,w):\n",
    "        n = X.shape[0]\n",
    "        y_pred = torch.tensor(n, 1).fill_(0)\n",
    "        y_pred = sigmoid(X @ w.reshape(X.shape[1], 1)) > 0\n",
    "        return y_pred.reshape(-1, 1)"
   ]
  },
  {
   "cell_type": "markdown",
   "id": "d_QH6nbte1mo",
   "metadata": {
    "id": "d_QH6nbte1mo",
    "pycharm": {
     "name": "#%% md\n"
    }
   },
   "source": [
    "Task 5"
   ]
  },
  {
   "cell_type": "code",
   "execution_count": 6,
   "id": "fGDYsaYoe2qC",
   "metadata": {
    "colab": {
     "base_uri": "https://localhost:8080/"
    },
    "id": "fGDYsaYoe2qC",
    "outputId": "7f5c4db9-3ea7-4819-beed-e652e0bc82dd",
    "pycharm": {
     "name": "#%%\n"
    }
   },
   "outputs": [
    {
     "data": {
      "text/plain": [
       "True"
      ]
     },
     "execution_count": 6,
     "metadata": {},
     "output_type": "execute_result"
    }
   ],
   "source": [
    "import torch\n",
    "a = torch.FloatTensor(2,3,4).uniform_().cuda()\n",
    "b = torch.FloatTensor(1,8,3).uniform_().cuda()\n",
    "a.is_cuda"
   ]
  },
  {
   "cell_type": "code",
   "execution_count": 15,
   "id": "mjiOOFhEgl9u",
   "metadata": {
    "id": "mjiOOFhEgl9u",
    "pycharm": {
     "name": "#%%\n"
    }
   },
   "outputs": [],
   "source": [
    "c = b.reshape(a.shape).cpu()\n",
    "a = a.cpu()"
   ]
  },
  {
   "cell_type": "code",
   "execution_count": 16,
   "id": "RC0Xo-2GhBD-",
   "metadata": {
    "id": "RC0Xo-2GhBD-",
    "pycharm": {
     "name": "#%%\n"
    }
   },
   "outputs": [],
   "source": [
    "from torch.autograd import Variable\n",
    "\n",
    "a = Variable(a,requires_grad = True)\n",
    "c = Variable(c,requires_grad = True)"
   ]
  },
  {
   "cell_type": "code",
   "execution_count": 19,
   "id": "MiIDjo-1hP7s",
   "metadata": {
    "colab": {
     "base_uri": "https://localhost:8080/"
    },
    "id": "MiIDjo-1hP7s",
    "outputId": "764ae3bb-1bd7-4b41-c852-0e919b17394e",
    "pycharm": {
     "name": "#%%\n"
    }
   },
   "outputs": [
    {
     "name": "stdout",
     "output_type": "stream",
     "text": [
      "tensor([[[-0.0641, -0.1124, -0.0273, -0.1106],\n",
      "         [-0.0328,  0.1103, -0.0609,  0.0642],\n",
      "         [-0.0095,  0.0558,  0.0784, -0.0463]],\n",
      "\n",
      "        [[-0.0150, -0.0273,  0.0137, -0.0896],\n",
      "         [ 0.1700, -0.1450, -0.0389,  0.0169],\n",
      "         [ 0.0294,  0.1316,  0.1804, -0.1760]]])\n"
     ]
    }
   ],
   "source": [
    "L = torch.mean((c - a)**2)\n",
    "L.backward()\n",
    "print(c.grad)"
   ]
  }
 ],
 "metadata": {
  "accelerator": "GPU",
  "colab": {
   "provenance": []
  },
  "gpuClass": "standard",
  "kernelspec": {
   "display_name": "Python 3 (ipykernel)",
   "language": "python",
   "name": "python3"
  },
  "language_info": {
   "codemirror_mode": {
    "name": "ipython",
    "version": 3
   },
   "file_extension": ".py",
   "mimetype": "text/x-python",
   "name": "python",
   "nbconvert_exporter": "python",
   "pygments_lexer": "ipython3",
   "version": "3.9.12"
  }
 },
 "nbformat": 4,
 "nbformat_minor": 5
}