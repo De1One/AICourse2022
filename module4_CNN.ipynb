{
 "nbformat": 4,
 "nbformat_minor": 0,
 "metadata": {
  "colab": {
   "provenance": []
  },
  "kernelspec": {
   "name": "python3",
   "display_name": "Python 3"
  },
  "language_info": {
   "name": "python"
  },
  "accelerator": "GPU",
  "gpuClass": "standard"
 },
 "cells": [
  {
   "cell_type": "code",
   "execution_count": 1,
   "metadata": {
    "id": "bpKa7OVTgJnX",
    "pycharm": {
     "name": "#%%\n"
    }
   },
   "outputs": [],
   "source": [
    "import keras\n",
    "from keras.models import Sequential\n",
    "from keras.layers import Dense, Activation, Flatten\n",
    "from keras.layers import Conv2D, MaxPooling2D, Dropout\n",
    "\n",
    "import keras.datasets\n",
    "\n",
    "import numpy as np\n",
    "from matplotlib import pyplot as plt\n",
    "\n",
    "import os\n",
    "os.environ['TF_CPP_MIN_LOG_LEVEL'] = '2' \n",
    "from tensorflow.python.util import deprecation\n",
    "deprecation._PRINT_DEPRECATION_WARNINGS = False\n",
    "import warnings\n",
    "warnings.filterwarnings(\"ignore\")\n",
    "\n",
    "import tensorflow as tf\n",
    "from keras.datasets import cifar10\n",
    "from keras.utils import np_utils"
   ]
  },
  {
   "cell_type": "code",
   "source": [
    "(X_train, y_train), (X_test, y_test) = cifar10.load_data()"
   ],
   "metadata": {
    "id": "EGbAkup7iA7a",
    "pycharm": {
     "name": "#%%\n"
    }
   },
   "execution_count": 2,
   "outputs": []
  },
  {
   "cell_type": "code",
   "source": [
    "LABEL_TRANSLATION={0: 'plane', 1: 'car', 2: 'bird', 3: 'cat', 4: 'deer', 5: 'dog', 6: 'frog', 7: 'horse', 8: 'ship', 9: 'truck'}"
   ],
   "metadata": {
    "id": "GUvC3KHViDHk",
    "pycharm": {
     "name": "#%%\n"
    }
   },
   "execution_count": 3,
   "outputs": []
  },
  {
   "cell_type": "code",
   "source": [
    "def plot_dataset_samples_grid(image_data, dataset_name='', N=8):\n",
    "  \"\"\"\n",
    "    Эта функция строит NxN самплов из датасета image_data\n",
    "\n",
    "    Параметры\n",
    "    ----------\n",
    "    image_data : array\n",
    "        Array of shape \n",
    "        (number_of_samples, image_width, image_height, number of channels)\n",
    "        with images\n",
    "    dataset_name : str\n",
    "        Name of dataset to write in the title\n",
    "    N : int\n",
    "        Size of grid of samples \n",
    "  \"\"\"\n",
    "  plt.figure(figsize=(10,10))\n",
    "  data1=image_data[:N*N]\n",
    "  \n",
    "  image_width=image_data.shape[1]\n",
    "  image_heigth=image_data.shape[2]\n",
    "\n",
    "  if len(data1.shape)==4:\n",
    "    image_channels=image_data.shape[3]\n",
    "    data1 = data1.reshape(N, N,image_width,image_heigth, image_channels)\n",
    "    data1 = np.transpose(data1,(0,2,1,3,4))\n",
    "    data1 = data1.reshape(N*image_width,N*image_heigth,image_channels)\n",
    "    plt.imshow(data1)\n",
    "\n",
    "  elif len(data1.shape)==3:\n",
    "    data1 = data1.reshape(N, N,image_width,image_heigth)\n",
    "    data1 = np.transpose(data1,(0,2,1,3))\n",
    "    data1 = data1.reshape(N*image_width,N*image_heigth)\n",
    "    plt.imshow(data1,cmap='gray')\n",
    "  plt.xticks([])\n",
    "  plt.yticks([])\n",
    "  plt.grid(False)\n",
    "  plt.title('First '+ str(N*N) + ' '+dataset_name+ ' samples of training set')\n",
    "  plt.show()"
   ],
   "metadata": {
    "id": "dlGdy5lSiFfL",
    "pycharm": {
     "name": "#%%\n"
    }
   },
   "execution_count": 4,
   "outputs": []
  },
  {
   "cell_type": "code",
   "source": [
    "X_train = X_train / 255 \n",
    "X_test = X_test / 255\n",
    "\n",
    "y_train = keras.utils.np_utils.to_categorical(y_train, 10)\n",
    "y_test = keras.utils.np_utils.to_categorical(y_test, 10)"
   ],
   "metadata": {
    "id": "d2v2OftMiMJW",
    "pycharm": {
     "name": "#%%\n"
    }
   },
   "execution_count": 5,
   "outputs": []
  },
  {
   "cell_type": "code",
   "source": [
    "def define_model():\n",
    "  # Создаем пустую модель\n",
    "  model = Sequential()\n",
    "\n",
    "#VGG1-блок\n",
    "  # Начинаем со сверточного слоя, указывая тип активации на выходе из него,\n",
    "  # способ заполнения краев (padding) и способ инициализации весов\n",
    "  model.add(Conv2D(32, (3, 3), activation='relu', kernel_initializer='he_uniform', padding='same', input_shape=(32, 32, 3)))\n",
    "  model.add(Conv2D(32, (3, 3), activation='relu', kernel_initializer='he_uniform', padding='same'))\n",
    "  # Здесь мы используем метод MaxPooling, который уменьшает размер обрабатываемого изображения, \n",
    "  # выбирая из 4 пикселей 1 с максимальным значением, чтобы это быстрее считалось. (2,2) -> 1\n",
    "  model.add(MaxPooling2D((2, 2)))\n",
    "\n",
    "  # Слой dropout, который на каждом шаге \"выключает\" 20% случайно выбранных нейронов\n",
    "  model.add(Dropout(0.2))\n",
    "\n",
    "#VGG2-блок\n",
    "  model.add(Conv2D(32, (3, 3), activation='relu', kernel_initializer='he_uniform', padding='same'))\n",
    "  model.add(Conv2D(32, (3, 3), activation='relu', kernel_initializer='he_uniform', padding='same'))\n",
    "  model.add(MaxPooling2D((2, 2)))\n",
    "  model.add(Dropout(0.2))\n",
    "#VGG3-блок\n",
    "  #model.add(Conv2D(64, (3, 3), activation='relu', kernel_initializer='he_uniform', padding='same'))\n",
    "  #model.add(Conv2D(64, (3, 3), activation='relu', kernel_initializer='he_uniform', padding='same'))\n",
    "  #model.add(MaxPooling2D((3, 3)))\n",
    "#VGG4-блок\n",
    "  #model.add(Conv2D(64, (3, 3), activation='relu', kernel_initializer='he_uniform', padding='same'))\n",
    "  #model.add(Conv2D(64, (3, 3), activation='relu', kernel_initializer='he_uniform', padding='same'))\n",
    "  #model.add(MaxPooling2D((2, 2)))\n",
    "  #model.add(Dropout(0.2))\n",
    "\n",
    "  # Разворачиваем данные в вектор\n",
    "  model.add(Flatten())\n",
    "  # Добавляем полносвязные слои:\n",
    "  # ReLU активация скрытого слоя\n",
    "  model.add(Dense(128, activation='relu', kernel_initializer='he_uniform'))\n",
    "  model.add(Dropout(0.2))\n",
    "  # Знакомый нам softmax для выходного полносвязного слоя\n",
    "  model.add(Dense(10, activation='softmax'))\n",
    "\n",
    "  # Компилируем модель с функцией ошибки categorical crossentropy, оптимизатором Адам \n",
    "  # (оптимизатор, который со стандартным набором параметров может обучить эффективную\n",
    "  # нейросеть), и метрикой - количеством правильно угаданных картинок.\n",
    "  model.compile(loss='categorical_crossentropy',\n",
    "                  optimizer = 'nadam',\n",
    "                  metrics = ['accuracy'])\n",
    "  return model"
   ],
   "metadata": {
    "id": "plHS8qPAiQFf",
    "pycharm": {
     "name": "#%%\n"
    }
   },
   "execution_count": 22,
   "outputs": []
  },
  {
   "cell_type": "code",
   "source": [
    "base_model = define_model()"
   ],
   "metadata": {
    "id": "AoBlu151iYkT",
    "pycharm": {
     "name": "#%%\n"
    }
   },
   "execution_count": 7,
   "outputs": []
  },
  {
   "cell_type": "code",
   "source": [
    "history_cnn = base_model.fit(X_train, y_train,\n",
    "              batch_size=128,\n",
    "              epochs=10,\n",
    "              validation_data=(X_test, y_test),\n",
    "              shuffle=True)"
   ],
   "metadata": {
    "colab": {
     "base_uri": "https://localhost:8080/"
    },
    "id": "KJKshxF5iZ1e",
    "outputId": "02f602e6-2e05-4fab-8ca0-102e2514f5da",
    "pycharm": {
     "name": "#%%\n"
    }
   },
   "execution_count": 8,
   "outputs": [
    {
     "output_type": "stream",
     "name": "stdout",
     "text": [
      "Epoch 1/10\n",
      "391/391 [==============================] - 16s 15ms/step - loss: 1.6594 - accuracy: 0.3946 - val_loss: 1.3088 - val_accuracy: 0.5290\n",
      "Epoch 2/10\n",
      "391/391 [==============================] - 5s 12ms/step - loss: 1.2325 - accuracy: 0.5598 - val_loss: 1.0861 - val_accuracy: 0.6159\n",
      "Epoch 3/10\n",
      "391/391 [==============================] - 5s 12ms/step - loss: 1.0724 - accuracy: 0.6206 - val_loss: 0.9349 - val_accuracy: 0.6734\n",
      "Epoch 4/10\n",
      "391/391 [==============================] - 5s 13ms/step - loss: 0.9596 - accuracy: 0.6603 - val_loss: 0.8873 - val_accuracy: 0.6840\n",
      "Epoch 5/10\n",
      "391/391 [==============================] - 5s 12ms/step - loss: 0.8858 - accuracy: 0.6877 - val_loss: 0.8309 - val_accuracy: 0.7096\n",
      "Epoch 6/10\n",
      "391/391 [==============================] - 5s 14ms/step - loss: 0.8266 - accuracy: 0.7068 - val_loss: 0.8022 - val_accuracy: 0.7181\n",
      "Epoch 7/10\n",
      "391/391 [==============================] - 5s 13ms/step - loss: 0.7844 - accuracy: 0.7243 - val_loss: 0.7713 - val_accuracy: 0.7252\n",
      "Epoch 8/10\n",
      "391/391 [==============================] - 5s 13ms/step - loss: 0.7384 - accuracy: 0.7391 - val_loss: 0.7279 - val_accuracy: 0.7430\n",
      "Epoch 9/10\n",
      "391/391 [==============================] - 5s 13ms/step - loss: 0.7044 - accuracy: 0.7493 - val_loss: 0.7246 - val_accuracy: 0.7464\n",
      "Epoch 10/10\n",
      "391/391 [==============================] - 5s 12ms/step - loss: 0.6737 - accuracy: 0.7600 - val_loss: 0.7206 - val_accuracy: 0.7491\n"
     ]
    }
   ]
  },
  {
   "cell_type": "code",
   "source": [
    "plt.plot(history_cnn.history['val_accuracy'], '-o', label='validation accuracy')\n",
    "plt.plot(history_cnn.history['accuracy'], '--s', label='training accuracy')\n",
    "plt.legend();\n",
    "base_model.evaluate(X_test, y_test)"
   ],
   "metadata": {
    "colab": {
     "base_uri": "https://localhost:8080/",
     "height": 300
    },
    "id": "88ndmBquibtV",
    "outputId": "3974dec0-9384-4550-c9a2-adb94c88f001",
    "pycharm": {
     "name": "#%%\n"
    }
   },
   "execution_count": 9,
   "outputs": [
    {
     "output_type": "stream",
     "name": "stdout",
     "text": [
      "313/313 [==============================] - 1s 4ms/step - loss: 0.7206 - accuracy: 0.7491\n"
     ]
    },
    {
     "output_type": "execute_result",
     "data": {
      "text/plain": [
       "[0.7205693125724792, 0.7491000294685364]"
      ]
     },
     "metadata": {},
     "execution_count": 9
    },
    {
     "output_type": "display_data",
     "data": {
      "text/plain": [
       "<Figure size 432x288 with 1 Axes>"
      ],
      "image/png": "[encoded data removed]"
     },
     "metadata": {
      "needs_background": "light"
     }
    }
   ]
  },
  {
   "cell_type": "code",
   "source": [
    "from keras.preprocessing.image import ImageDataGenerator"
   ],
   "metadata": {
    "id": "QU0sgVbRifKb",
    "pycharm": {
     "name": "#%%\n"
    }
   },
   "execution_count": 10,
   "outputs": []
  },
  {
   "cell_type": "code",
   "source": [
    "datagen = ImageDataGenerator(\n",
    "    rotation_range=1,\n",
    "    width_shift_range=0.2, \n",
    "    zoom_range = 0.01,\n",
    "    shear_range=0.02)\n",
    "train_generator = datagen.flow(X_train, y_train, batch_size=128)"
   ],
   "metadata": {
    "id": "OVoJtKf9ihGK",
    "pycharm": {
     "name": "#%%\n"
    }
   },
   "execution_count": 29,
   "outputs": []
  },
  {
   "cell_type": "code",
   "source": [
    "gen_model = define_model()"
   ],
   "metadata": {
    "id": "HLiRaALQimlO",
    "pycharm": {
     "name": "#%%\n"
    }
   },
   "execution_count": 30,
   "outputs": []
  },
  {
   "cell_type": "code",
   "source": [
    "history_cnn = gen_model.fit_generator(train_generator,\n",
    "                        epochs=40,\n",
    "                        validation_data=(X_test, y_test))"
   ],
   "metadata": {
    "colab": {
     "base_uri": "https://localhost:8080/"
    },
    "id": "COEUhaZLipG5",
    "outputId": "6e2967c1-c004-4d5d-92c4-0a0ddc727fd1",
    "pycharm": {
     "name": "#%%\n"
    }
   },
   "execution_count": 31,
   "outputs": [
    {
     "output_type": "stream",
     "name": "stdout",
     "text": [
      "Epoch 1/40\n",
      "391/391 [==============================] - 32s 76ms/step - loss: 1.8070 - accuracy: 0.3361 - val_loss: 1.5390 - val_accuracy: 0.4538\n",
      "Epoch 2/40\n",
      "391/391 [==============================] - 29s 73ms/step - loss: 1.4058 - accuracy: 0.4906 - val_loss: 1.1792 - val_accuracy: 0.5834\n",
      "Epoch 3/40\n",
      "391/391 [==============================] - 27s 68ms/step - loss: 1.2547 - accuracy: 0.5501 - val_loss: 1.0771 - val_accuracy: 0.6199\n",
      "Epoch 4/40\n",
      "391/391 [==============================] - 27s 70ms/step - loss: 1.1458 - accuracy: 0.5902 - val_loss: 1.0473 - val_accuracy: 0.6297\n",
      "Epoch 5/40\n",
      "391/391 [==============================] - 27s 69ms/step - loss: 1.0608 - accuracy: 0.6214 - val_loss: 0.9165 - val_accuracy: 0.6768\n",
      "Epoch 6/40\n",
      "391/391 [==============================] - 27s 69ms/step - loss: 1.0015 - accuracy: 0.6450 - val_loss: 0.8458 - val_accuracy: 0.7016\n",
      "Epoch 7/40\n",
      "391/391 [==============================] - 27s 70ms/step - loss: 0.9503 - accuracy: 0.6622 - val_loss: 0.8298 - val_accuracy: 0.7113\n",
      "Epoch 8/40\n",
      "391/391 [==============================] - 27s 69ms/step - loss: 0.9181 - accuracy: 0.6758 - val_loss: 0.8328 - val_accuracy: 0.7067\n",
      "Epoch 9/40\n",
      "391/391 [==============================] - 28s 72ms/step - loss: 0.8813 - accuracy: 0.6863 - val_loss: 0.7820 - val_accuracy: 0.7265\n",
      "Epoch 10/40\n",
      "391/391 [==============================] - 28s 71ms/step - loss: 0.8611 - accuracy: 0.6958 - val_loss: 0.7959 - val_accuracy: 0.7191\n",
      "Epoch 11/40\n",
      "391/391 [==============================] - 27s 69ms/step - loss: 0.8401 - accuracy: 0.7029 - val_loss: 0.7628 - val_accuracy: 0.7368\n",
      "Epoch 12/40\n",
      "391/391 [==============================] - 27s 68ms/step - loss: 0.8191 - accuracy: 0.7121 - val_loss: 0.7645 - val_accuracy: 0.7364\n",
      "Epoch 13/40\n",
      "391/391 [==============================] - 27s 68ms/step - loss: 0.7968 - accuracy: 0.7199 - val_loss: 0.7073 - val_accuracy: 0.7516\n",
      "Epoch 14/40\n",
      "391/391 [==============================] - 27s 70ms/step - loss: 0.7858 - accuracy: 0.7211 - val_loss: 0.7294 - val_accuracy: 0.7468\n",
      "Epoch 15/40\n",
      "391/391 [==============================] - 27s 70ms/step - loss: 0.7673 - accuracy: 0.7296 - val_loss: 0.7553 - val_accuracy: 0.7373\n",
      "Epoch 16/40\n",
      "391/391 [==============================] - 27s 69ms/step - loss: 0.7557 - accuracy: 0.7323 - val_loss: 0.7146 - val_accuracy: 0.7527\n",
      "Epoch 17/40\n",
      "391/391 [==============================] - 27s 69ms/step - loss: 0.7423 - accuracy: 0.7375 - val_loss: 0.7408 - val_accuracy: 0.7432\n",
      "Epoch 18/40\n",
      "391/391 [==============================] - 27s 70ms/step - loss: 0.7352 - accuracy: 0.7411 - val_loss: 0.7274 - val_accuracy: 0.7515\n",
      "Epoch 19/40\n",
      "391/391 [==============================] - 27s 69ms/step - loss: 0.7184 - accuracy: 0.7457 - val_loss: 0.6957 - val_accuracy: 0.7626\n",
      "Epoch 20/40\n",
      "391/391 [==============================] - 27s 69ms/step - loss: 0.6998 - accuracy: 0.7526 - val_loss: 0.6670 - val_accuracy: 0.7726\n",
      "Epoch 21/40\n",
      "391/391 [==============================] - 27s 70ms/step - loss: 0.7003 - accuracy: 0.7554 - val_loss: 0.6572 - val_accuracy: 0.7748\n",
      "Epoch 22/40\n",
      "391/391 [==============================] - 29s 74ms/step - loss: 0.6890 - accuracy: 0.7577 - val_loss: 0.6968 - val_accuracy: 0.7628\n",
      "Epoch 23/40\n",
      "391/391 [==============================] - 27s 69ms/step - loss: 0.6817 - accuracy: 0.7592 - val_loss: 0.6864 - val_accuracy: 0.7680\n",
      "Epoch 24/40\n",
      "391/391 [==============================] - 27s 70ms/step - loss: 0.6748 - accuracy: 0.7619 - val_loss: 0.6859 - val_accuracy: 0.7671\n",
      "Epoch 25/40\n",
      "391/391 [==============================] - 27s 69ms/step - loss: 0.6638 - accuracy: 0.7639 - val_loss: 0.6519 - val_accuracy: 0.7765\n",
      "Epoch 26/40\n",
      "391/391 [==============================] - 28s 71ms/step - loss: 0.6582 - accuracy: 0.7676 - val_loss: 0.6648 - val_accuracy: 0.7776\n",
      "Epoch 27/40\n",
      "391/391 [==============================] - 27s 68ms/step - loss: 0.6579 - accuracy: 0.7683 - val_loss: 0.6501 - val_accuracy: 0.7815\n",
      "Epoch 28/40\n",
      "391/391 [==============================] - 27s 68ms/step - loss: 0.6489 - accuracy: 0.7697 - val_loss: 0.6627 - val_accuracy: 0.7763\n",
      "Epoch 29/40\n",
      "391/391 [==============================] - 27s 69ms/step - loss: 0.6441 - accuracy: 0.7732 - val_loss: 0.6557 - val_accuracy: 0.7767\n",
      "Epoch 30/40\n",
      "391/391 [==============================] - 27s 70ms/step - loss: 0.6380 - accuracy: 0.7739 - val_loss: 0.6799 - val_accuracy: 0.7722\n",
      "Epoch 31/40\n",
      "391/391 [==============================] - 27s 69ms/step - loss: 0.6298 - accuracy: 0.7767 - val_loss: 0.6703 - val_accuracy: 0.7744\n",
      "Epoch 32/40\n",
      "391/391 [==============================] - 27s 69ms/step - loss: 0.6248 - accuracy: 0.7773 - val_loss: 0.6217 - val_accuracy: 0.7906\n",
      "Epoch 33/40\n",
      "391/391 [==============================] - 27s 68ms/step - loss: 0.6167 - accuracy: 0.7827 - val_loss: 0.6716 - val_accuracy: 0.7782\n",
      "Epoch 34/40\n",
      "391/391 [==============================] - 27s 69ms/step - loss: 0.6179 - accuracy: 0.7817 - val_loss: 0.6302 - val_accuracy: 0.7848\n",
      "Epoch 35/40\n",
      "391/391 [==============================] - 27s 68ms/step - loss: 0.6093 - accuracy: 0.7841 - val_loss: 0.6567 - val_accuracy: 0.7770\n",
      "Epoch 36/40\n",
      "391/391 [==============================] - 27s 69ms/step - loss: 0.6054 - accuracy: 0.7865 - val_loss: 0.6838 - val_accuracy: 0.7729\n",
      "Epoch 37/40\n",
      "391/391 [==============================] - 27s 70ms/step - loss: 0.5989 - accuracy: 0.7860 - val_loss: 0.6235 - val_accuracy: 0.7910\n",
      "Epoch 38/40\n",
      "391/391 [==============================] - 28s 72ms/step - loss: 0.5972 - accuracy: 0.7887 - val_loss: 0.6135 - val_accuracy: 0.7954\n",
      "Epoch 39/40\n",
      "391/391 [==============================] - 27s 69ms/step - loss: 0.5880 - accuracy: 0.7934 - val_loss: 0.6450 - val_accuracy: 0.7867\n",
      "Epoch 40/40\n",
      "391/391 [==============================] - 27s 68ms/step - loss: 0.5886 - accuracy: 0.7916 - val_loss: 0.6449 - val_accuracy: 0.7891\n"
     ]
    }
   ]
  },
  {
   "cell_type": "code",
   "source": [
    "plt.plot(history_cnn.history['val_accuracy'], '-o', label='validation accuracy')\n",
    "plt.plot(history_cnn.history['accuracy'], '--s', label='training accuracy')\n",
    "plt.legend();\n",
    "gen_model.evaluate(X_test, y_test)"
   ],
   "metadata": {
    "colab": {
     "base_uri": "https://localhost:8080/",
     "height": 300
    },
    "id": "L81fMC5KirY5",
    "outputId": "e4eb4db1-7661-4dbd-c0b9-6db8674fb50c",
    "pycharm": {
     "name": "#%%\n"
    }
   },
   "execution_count": 32,
   "outputs": [
    {
     "output_type": "stream",
     "name": "stdout",
     "text": [
      "313/313 [==============================] - 1s 3ms/step - loss: 0.6449 - accuracy: 0.7891\n"
     ]
    },
    {
     "output_type": "execute_result",
     "data": {
      "text/plain": [
       "[0.6449304819107056, 0.7890999913215637]"
      ]
     },
     "metadata": {},
     "execution_count": 32
    },
    {
     "output_type": "display_data",
     "data": {
      "text/plain": [
       "<Figure size 432x288 with 1 Axes>"
      ],
      "image/png": "[encoded data removed]"
     },
     "metadata": {
      "needs_background": "light"
     }
    }
   ]
  }
 ]
}