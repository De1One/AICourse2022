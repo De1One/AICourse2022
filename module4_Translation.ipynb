{
 "nbformat": 4,
 "nbformat_minor": 0,
 "metadata": {
  "colab": {
   "provenance": [],
   "toc_visible": true
  },
  "kernelspec": {
   "name": "python3",
   "display_name": "Python 3"
  },
  "language_info": {
   "name": "python"
  },
  "accelerator": "GPU",
  "gpuClass": "standard"
 },
 "cells": [
  {
   "cell_type": "code",
   "execution_count": 22,
   "metadata": {
    "id": "RnO7TOjCxDat",
    "pycharm": {
     "name": "#%%\n"
    }
   },
   "outputs": [],
   "source": [
    "import os\n",
    "# os.environ[\"CUDA_VISIBLE_DEVICES\"] = \"-1\"  # Force CPU\n",
    "os.environ['TF_CPP_MIN_LOG_LEVEL'] = '3'  # 0 = all messages are logged, 3 - INFO, WARNING, and ERROR messages are not printed\n",
    "# Загружаем все необходимые библиотеки\n",
    "import string \n",
    "import re\n",
    "import numpy as np\n",
    "import pandas as pd\n",
    "from keras.models import Sequential \n",
    "from keras.layers import Dense, LSTM, Embedding, RepeatVector, Dropout,TimeDistributed,Bidirectional,GRU\n",
    "from keras.preprocessing.text import Tokenizer\n",
    "from keras.callbacks import ModelCheckpoint \n",
    "from keras.utils import pad_sequences\n",
    "from keras.models import load_model \n",
    "from keras import optimizers\n",
    "from keras.optimizers import Adam\n",
    "from sklearn.model_selection import train_test_split\n",
    "import matplotlib.pyplot as plt\n",
    "\n",
    "pd.set_option('display.max_colwidth', 200)"
   ]
  },
  {
   "cell_type": "code",
   "source": [
    "# Задаем функцию для чтения файла, а точнее текста, который представляет из себя две колонки, разделенные табуляцией.\n",
    "def read_text(filename):\n",
    "    with open(filename, mode='rt', encoding='utf-8') as file:\n",
    "        text = file.read()\n",
    "        sents = text.strip().split('\\n')\n",
    "        return [i.split('\\t') for i in sents]"
   ],
   "metadata": {
    "id": "TD_S3l4nx16v",
    "pycharm": {
     "name": "#%%\n"
    }
   },
   "execution_count": 23,
   "outputs": []
  },
  {
   "cell_type": "code",
   "source": [
    "data = read_text(\"deutch.txt\")\n",
    "deu_eng = np.array(data)\n",
    "\n",
    "deu_eng = deu_eng[:60000,:]\n",
    "print(\"Dictionary size:\", deu_eng.shape)"
   ],
   "metadata": {
    "colab": {
     "base_uri": "https://localhost:8080/"
    },
    "id": "H1KnYFYax387",
    "outputId": "80aa58a4-bc8b-4820-d752-5cd19e4515ca",
    "pycharm": {
     "name": "#%%\n"
    }
   },
   "execution_count": 41,
   "outputs": [
    {
     "output_type": "stream",
     "name": "stdout",
     "text": [
      "Dictionary size: (60000, 2)\n"
     ]
    }
   ]
  },
  {
   "cell_type": "code",
   "source": [
    "deu_eng[:,0] = [s.translate(str.maketrans('', '', string.punctuation)) for s in deu_eng[:,0]] \n",
    "deu_eng[:,1] = [s.translate(str.maketrans('', '', string.punctuation)) for s in deu_eng[:,1]] "
   ],
   "metadata": {
    "id": "VGx2uKPFx_RU",
    "pycharm": {
     "name": "#%%\n"
    }
   },
   "execution_count": 42,
   "outputs": []
  },
  {
   "cell_type": "code",
   "source": [
    "for i in range(len(deu_eng)): \n",
    "    deu_eng[i,0] = deu_eng[i,0].lower() \n",
    "    deu_eng[i,1] = deu_eng[i,1].lower()"
   ],
   "metadata": {
    "id": "1M54bOoeyBqL",
    "pycharm": {
     "name": "#%%\n"
    }
   },
   "execution_count": 43,
   "outputs": []
  },
  {
   "cell_type": "code",
   "source": [
    "eng_tokenizer = Tokenizer()\n",
    "eng_tokenizer.fit_on_texts(deu_eng[:, 0])\n",
    "eng_vocab_size = len(eng_tokenizer.word_index) + 1 \n",
    "eng_length = 8"
   ],
   "metadata": {
    "id": "gUVs8P6gyD9H",
    "pycharm": {
     "name": "#%%\n"
    }
   },
   "execution_count": 44,
   "outputs": []
  },
  {
   "cell_type": "code",
   "source": [
    "deu_tokenizer = Tokenizer()\n",
    "deu_tokenizer.fit_on_texts(deu_eng[:, 1])\n",
    "deu_vocab_size = len(deu_tokenizer.word_index) + 1 \n",
    "deu_length = 8 "
   ],
   "metadata": {
    "id": "R9OSigVjyGMq",
    "pycharm": {
     "name": "#%%\n"
    }
   },
   "execution_count": 45,
   "outputs": []
  },
  {
   "cell_type": "code",
   "source": [
    "def encode_sequences(tokenizer, length, lines):          \n",
    "    # integer encode sequences\n",
    "    seq = tokenizer.texts_to_sequences(lines)\n",
    "    # pad sequences with 0 values\n",
    "    seq = pad_sequences(seq, maxlen=length, padding='post')\n",
    "    return seq"
   ],
   "metadata": {
    "id": "mZdzdrXLyJX_",
    "pycharm": {
     "name": "#%%\n"
    }
   },
   "execution_count": 46,
   "outputs": []
  },
  {
   "cell_type": "code",
   "source": [
    "train, test = train_test_split(deu_eng, test_size=0.2, random_state=12)"
   ],
   "metadata": {
    "id": "jEGZMJuxyMaD",
    "pycharm": {
     "name": "#%%\n"
    }
   },
   "execution_count": 47,
   "outputs": []
  },
  {
   "cell_type": "code",
   "source": [
    "trainX = encode_sequences(eng_tokenizer, eng_length, train[:, 0])\n",
    "trainY = encode_sequences(deu_tokenizer, deu_length, train[:, 1])\n",
    "testX = encode_sequences(eng_tokenizer, eng_length, test[:, 0])\n",
    "testY = encode_sequences(deu_tokenizer, deu_length, test[:, 1])"
   ],
   "metadata": {
    "id": "Rsm4VaZbyOU0",
    "pycharm": {
     "name": "#%%\n"
    }
   },
   "execution_count": 48,
   "outputs": []
  },
  {
   "cell_type": "code",
   "source": [
    "def make_model(in_vocab, out_vocab, in_timesteps, out_timesteps, n):\n",
    "    #model = Sequential()\n",
    "    #model.add(Embedding(in_vocab, n, input_length=in_timesteps, mask_zero=True))\n",
    "    #model.add(LSTM(n))\n",
    "    #model.add(Dropout(0.3))\n",
    "    #model.add(RepeatVector(out_timesteps))\n",
    "    #model.add(LSTM(n, return_sequences=True))\n",
    "    #model.add(Dropout(0.3))\n",
    "    #model.add(TimeDistributed(Dense(out_vocab, activation='softmax')))\n",
    "    #model.compile(optimizer=optimizers.RMSprop(lr=0.001), loss='sparse_categorical_crossentropy')\n",
    "    learning_rate = 0.002\n",
    "\n",
    "    # Build the layers    \n",
    "    model = Sequential()\n",
    "    # Embedding\n",
    "    model.add(Embedding(in_vocab, n, input_length=in_timesteps))\n",
    "    # Encoder\n",
    "    model.add(LSTM(n))\n",
    "    model.add(RepeatVector(out_timesteps))\n",
    "    model.add(Bidirectional(GRU(n)))\n",
    "    model.add(RepeatVector(out_timesteps))\n",
    "    # Decoder\n",
    "    model.add(Bidirectional(GRU(n, return_sequences=True)))\n",
    "    model.add(TimeDistributed(Dense(n, activation='relu')))\n",
    "    model.add(Dropout(0.4))\n",
    "    model.add(TimeDistributed(Dense(out_vocab, activation='softmax')))\n",
    "    model.compile(loss='sparse_categorical_crossentropy',\n",
    "                  optimizer=optimizers.RMSprop(learning_rate),\n",
    "                  metrics=['accuracy'])\n",
    "    return model\n",
    "\n",
    "print(\"deu_vocab_size:\", deu_vocab_size, deu_length)\n",
    "print(\"eng_vocab_size:\", eng_vocab_size, eng_length)"
   ],
   "metadata": {
    "colab": {
     "base_uri": "https://localhost:8080/"
    },
    "id": "Etpwzr3CyRxc",
    "outputId": "6d7eefef-81ac-4672-f90d-27c4b5636f68",
    "pycharm": {
     "name": "#%%\n"
    }
   },
   "execution_count": 49,
   "outputs": [
    {
     "output_type": "stream",
     "name": "stdout",
     "text": [
      "deu_vocab_size: 12159 8\n",
      "eng_vocab_size: 7068 8\n"
     ]
    }
   ]
  },
  {
   "cell_type": "code",
   "source": [
    "model = make_model(eng_vocab_size, deu_vocab_size, eng_length, deu_length, 512)"
   ],
   "metadata": {
    "id": "Q30EIJyQyTXn",
    "pycharm": {
     "name": "#%%\n"
    }
   },
   "execution_count": 28,
   "outputs": []
  },
  {
   "cell_type": "code",
   "source": [
    "num_epochs = 250 #250\n",
    "history = model.fit(trainX, trainY.reshape(trainY.shape[0], trainY.shape[1], 1), epochs=num_epochs, batch_size=512, validation_split=0.2, callbacks=None, verbose=1)\n",
    "plt.plot(history.history['loss'])\n",
    "plt.plot(history.history['val_loss'])\n",
    "plt.legend(['train','validation'])\n",
    "plt.show()\n",
    "model.save('en-de-model.h5')"
   ],
   "metadata": {
    "id": "33jZbNamyV0t",
    "colab": {
     "base_uri": "https://localhost:8080/",
     "height": 1000
    },
    "outputId": "0c2a43fe-a0c0-4343-a61d-e1c6d9277ca1",
    "pycharm": {
     "name": "#%%\n"
    }
   },
   "execution_count": null,
   "outputs": [
    {
     "output_type": "stream",
     "name": "stdout",
     "text": [
      "Epoch 1/250\n",
      "25/25 [==============================] - 13s 154ms/step - loss: 4.1244 - val_loss: 3.0209\n",
      "Epoch 2/250\n",
      "25/25 [==============================] - 2s 71ms/step - loss: 2.9707 - val_loss: 2.8405\n",
      "Epoch 3/250\n",
      "25/25 [==============================] - 2s 76ms/step - loss: 2.7886 - val_loss: 2.8210\n",
      "Epoch 4/250\n",
      "25/25 [==============================] - 2s 70ms/step - loss: 2.7088 - val_loss: 2.7938\n",
      "Epoch 5/250\n",
      "25/25 [==============================] - 2s 76ms/step - loss: 2.6259 - val_loss: 2.6701\n",
      "Epoch 6/250\n",
      "25/25 [==============================] - 2s 70ms/step - loss: 2.5120 - val_loss: 2.6025\n",
      "Epoch 7/250\n",
      "25/25 [==============================] - 2s 69ms/step - loss: 2.4379 - val_loss: 2.5248\n",
      "Epoch 8/250\n",
      "25/25 [==============================] - 2s 79ms/step - loss: 2.3592 - val_loss: 2.4620\n",
      "Epoch 9/250\n",
      "25/25 [==============================] - 2s 71ms/step - loss: 2.2854 - val_loss: 2.4168\n",
      "Epoch 10/250\n",
      "25/25 [==============================] - 2s 70ms/step - loss: 2.2236 - val_loss: 2.3764\n",
      "Epoch 11/250\n",
      "25/25 [==============================] - 2s 70ms/step - loss: 2.1649 - val_loss: 2.3379\n",
      "Epoch 12/250\n",
      "25/25 [==============================] - 2s 70ms/step - loss: 2.1095 - val_loss: 2.3458\n",
      "Epoch 13/250\n",
      "25/25 [==============================] - 2s 77ms/step - loss: 2.0591 - val_loss: 2.2718\n",
      "Epoch 14/250\n",
      "25/25 [==============================] - 2s 72ms/step - loss: 2.0156 - val_loss: 2.2448\n",
      "Epoch 15/250\n",
      "25/25 [==============================] - 2s 80ms/step - loss: 1.9626 - val_loss: 2.2287\n",
      "Epoch 16/250\n",
      "25/25 [==============================] - 2s 78ms/step - loss: 1.9195 - val_loss: 2.1848\n",
      "Epoch 17/250\n",
      "25/25 [==============================] - 2s 71ms/step - loss: 1.8742 - val_loss: 2.1621\n",
      "Epoch 18/250\n",
      "25/25 [==============================] - 2s 71ms/step - loss: 1.8328 - val_loss: 2.1821\n",
      "Epoch 19/250\n",
      "25/25 [==============================] - 2s 72ms/step - loss: 1.7949 - val_loss: 2.1281\n",
      "Epoch 20/250\n",
      "25/25 [==============================] - 2s 71ms/step - loss: 1.7540 - val_loss: 2.1034\n",
      "Epoch 21/250\n",
      "25/25 [==============================] - 2s 74ms/step - loss: 1.7085 - val_loss: 2.0851\n",
      "Epoch 22/250\n",
      "25/25 [==============================] - 2s 80ms/step - loss: 1.6735 - val_loss: 2.0559\n",
      "Epoch 23/250\n",
      "25/25 [==============================] - 2s 72ms/step - loss: 1.6337 - val_loss: 2.0424\n",
      "Epoch 24/250\n",
      "25/25 [==============================] - 2s 72ms/step - loss: 1.5992 - val_loss: 2.0372\n",
      "Epoch 25/250\n",
      "25/25 [==============================] - 2s 78ms/step - loss: 1.5622 - val_loss: 2.0106\n",
      "Epoch 26/250\n",
      "25/25 [==============================] - 2s 72ms/step - loss: 1.5254 - val_loss: 1.9727\n",
      "Epoch 27/250\n",
      "25/25 [==============================] - 2s 79ms/step - loss: 1.4916 - val_loss: 1.9628\n",
      "Epoch 28/250\n",
      "25/25 [==============================] - 2s 76ms/step - loss: 1.4548 - val_loss: 1.9390\n",
      "Epoch 29/250\n",
      "25/25 [==============================] - 2s 79ms/step - loss: 1.4243 - val_loss: 1.9303\n",
      "Epoch 30/250\n",
      "25/25 [==============================] - 2s 79ms/step - loss: 1.3916 - val_loss: 1.9268\n",
      "Epoch 31/250\n",
      "25/25 [==============================] - 2s 80ms/step - loss: 1.3560 - val_loss: 1.8980\n",
      "Epoch 32/250\n",
      "25/25 [==============================] - 2s 73ms/step - loss: 1.3322 - val_loss: 1.8970\n",
      "Epoch 33/250\n",
      "25/25 [==============================] - 2s 80ms/step - loss: 1.2976 - val_loss: 1.8770\n",
      "Epoch 34/250\n",
      "25/25 [==============================] - 2s 76ms/step - loss: 1.2693 - val_loss: 1.8807\n",
      "Epoch 35/250\n",
      "25/25 [==============================] - 2s 74ms/step - loss: 1.2405 - val_loss: 1.8462\n",
      "Epoch 36/250\n",
      "25/25 [==============================] - 2s 80ms/step - loss: 1.2136 - val_loss: 1.8347\n",
      "Epoch 37/250\n",
      "25/25 [==============================] - 2s 80ms/step - loss: 1.1789 - val_loss: 1.8205\n",
      "Epoch 38/250\n",
      "25/25 [==============================] - 2s 74ms/step - loss: 1.1602 - val_loss: 1.8277\n",
      "Epoch 39/250\n",
      "25/25 [==============================] - 2s 80ms/step - loss: 1.1282 - val_loss: 1.8057\n",
      "Epoch 40/250\n",
      "25/25 [==============================] - 2s 82ms/step - loss: 1.1043 - val_loss: 1.7988\n",
      "Epoch 41/250\n",
      "25/25 [==============================] - 2s 80ms/step - loss: 1.0791 - val_loss: 1.7883\n",
      "Epoch 42/250\n",
      "25/25 [==============================] - 2s 81ms/step - loss: 1.0562 - val_loss: 1.7797\n",
      "Epoch 43/250\n",
      "25/25 [==============================] - 2s 74ms/step - loss: 1.0295 - val_loss: 1.7690\n",
      "Epoch 44/250\n",
      "25/25 [==============================] - 2s 81ms/step - loss: 1.0089 - val_loss: 1.7662\n",
      "Epoch 45/250\n",
      "25/25 [==============================] - 2s 75ms/step - loss: 0.9843 - val_loss: 1.7519\n",
      "Epoch 46/250\n",
      "25/25 [==============================] - 2s 82ms/step - loss: 0.9588 - val_loss: 1.7624\n",
      "Epoch 47/250\n",
      "25/25 [==============================] - 2s 76ms/step - loss: 0.9401 - val_loss: 1.7467\n",
      "Epoch 48/250\n",
      "25/25 [==============================] - 2s 75ms/step - loss: 0.9191 - val_loss: 1.7374\n",
      "Epoch 49/250\n",
      "25/25 [==============================] - 2s 75ms/step - loss: 0.8955 - val_loss: 1.7312\n",
      "Epoch 50/250\n",
      "25/25 [==============================] - 2s 81ms/step - loss: 0.8777 - val_loss: 1.7263\n",
      "Epoch 51/250\n",
      "25/25 [==============================] - 2s 75ms/step - loss: 0.8539 - val_loss: 1.7255\n",
      "Epoch 52/250\n",
      "25/25 [==============================] - 2s 76ms/step - loss: 0.8391 - val_loss: 1.7089\n",
      "Epoch 53/250\n",
      "25/25 [==============================] - 2s 78ms/step - loss: 0.8205 - val_loss: 1.7085\n",
      "Epoch 54/250\n",
      "25/25 [==============================] - 2s 74ms/step - loss: 0.7996 - val_loss: 1.7054\n",
      "Epoch 55/250\n",
      "25/25 [==============================] - 2s 81ms/step - loss: 0.7781 - val_loss: 1.7005\n",
      "Epoch 56/250\n",
      "25/25 [==============================] - 2s 74ms/step - loss: 0.7641 - val_loss: 1.6957\n",
      "Epoch 57/250\n",
      "25/25 [==============================] - 2s 74ms/step - loss: 0.7463 - val_loss: 1.6885\n",
      "Epoch 58/250\n",
      "25/25 [==============================] - 2s 74ms/step - loss: 0.7287 - val_loss: 1.6877\n",
      "Epoch 59/250\n",
      "25/25 [==============================] - 2s 82ms/step - loss: 0.7080 - val_loss: 1.6827\n",
      "Epoch 60/250\n",
      "25/25 [==============================] - 2s 74ms/step - loss: 0.6986 - val_loss: 1.6864\n",
      "Epoch 61/250\n",
      "25/25 [==============================] - 2s 80ms/step - loss: 0.6801 - val_loss: 1.6806\n",
      "Epoch 62/250\n",
      "25/25 [==============================] - 2s 74ms/step - loss: 0.6669 - val_loss: 1.6744\n",
      "Epoch 63/250\n",
      "25/25 [==============================] - 2s 80ms/step - loss: 0.6531 - val_loss: 1.6734\n",
      "Epoch 64/250\n",
      "25/25 [==============================] - 2s 81ms/step - loss: 0.6365 - val_loss: 1.6704\n",
      "Epoch 65/250\n",
      "25/25 [==============================] - 2s 83ms/step - loss: 0.6234 - val_loss: 1.6687\n",
      "Epoch 66/250\n",
      "25/25 [==============================] - 2s 81ms/step - loss: 0.6105 - val_loss: 1.6742\n",
      "Epoch 67/250\n",
      "25/25 [==============================] - 2s 74ms/step - loss: 0.5987 - val_loss: 1.6690\n",
      "Epoch 68/250\n",
      "25/25 [==============================] - 2s 80ms/step - loss: 0.5820 - val_loss: 1.6672\n",
      "Epoch 69/250\n",
      "25/25 [==============================] - 2s 80ms/step - loss: 0.5723 - val_loss: 1.6648\n",
      "Epoch 70/250\n",
      "25/25 [==============================] - 2s 74ms/step - loss: 0.5601 - val_loss: 1.6657\n",
      "Epoch 71/250\n",
      "25/25 [==============================] - 2s 81ms/step - loss: 0.5508 - val_loss: 1.6790\n",
      "Epoch 72/250\n",
      "25/25 [==============================] - 2s 75ms/step - loss: 0.5377 - val_loss: 1.6661\n",
      "Epoch 73/250\n",
      "25/25 [==============================] - 2s 74ms/step - loss: 0.5266 - val_loss: 1.6648\n",
      "Epoch 74/250\n",
      "25/25 [==============================] - 2s 74ms/step - loss: 0.5162 - val_loss: 1.6596\n",
      "Epoch 75/250\n",
      "25/25 [==============================] - 2s 80ms/step - loss: 0.5043 - val_loss: 1.6627\n",
      "Epoch 76/250\n",
      "25/25 [==============================] - 2s 74ms/step - loss: 0.4955 - val_loss: 1.6659\n",
      "Epoch 77/250\n",
      "25/25 [==============================] - 2s 74ms/step - loss: 0.4845 - val_loss: 1.6599\n",
      "Epoch 78/250\n",
      "25/25 [==============================] - 2s 77ms/step - loss: 0.4764 - val_loss: 1.6595\n",
      "Epoch 79/250\n",
      "25/25 [==============================] - 2s 80ms/step - loss: 0.4680 - val_loss: 1.6641\n",
      "Epoch 80/250\n",
      "25/25 [==============================] - 2s 74ms/step - loss: 0.4603 - val_loss: 1.6642\n",
      "Epoch 81/250\n",
      "25/25 [==============================] - 2s 73ms/step - loss: 0.4482 - val_loss: 1.6653\n",
      "Epoch 82/250\n",
      "25/25 [==============================] - 2s 74ms/step - loss: 0.4447 - val_loss: 1.6743\n",
      "Epoch 83/250\n",
      "25/25 [==============================] - 2s 80ms/step - loss: 0.4312 - val_loss: 1.6655\n",
      "Epoch 84/250\n",
      "25/25 [==============================] - 2s 82ms/step - loss: 0.4262 - val_loss: 1.6726\n",
      "Epoch 85/250\n",
      "25/25 [==============================] - 2s 81ms/step - loss: 0.4178 - val_loss: 1.6711\n",
      "Epoch 86/250\n",
      "25/25 [==============================] - 2s 74ms/step - loss: 0.4101 - val_loss: 1.6763\n",
      "Epoch 87/250\n",
      "25/25 [==============================] - 2s 74ms/step - loss: 0.4029 - val_loss: 1.6758\n",
      "Epoch 88/250\n",
      "25/25 [==============================] - 2s 74ms/step - loss: 0.3956 - val_loss: 1.6731\n",
      "Epoch 89/250\n",
      "25/25 [==============================] - 2s 80ms/step - loss: 0.3870 - val_loss: 1.6759\n",
      "Epoch 90/250\n",
      "25/25 [==============================] - 2s 75ms/step - loss: 0.3865 - val_loss: 1.6834\n",
      "Epoch 91/250\n",
      "25/25 [==============================] - 2s 76ms/step - loss: 0.3779 - val_loss: 1.6823\n",
      "Epoch 92/250\n",
      "25/25 [==============================] - 2s 74ms/step - loss: 0.3688 - val_loss: 1.6903\n",
      "Epoch 93/250\n",
      "25/25 [==============================] - 2s 74ms/step - loss: 0.3682 - val_loss: 1.6906\n",
      "Epoch 94/250\n",
      "25/25 [==============================] - 2s 80ms/step - loss: 0.3589 - val_loss: 1.6900\n",
      "Epoch 95/250\n",
      "25/25 [==============================] - 2s 74ms/step - loss: 0.3553 - val_loss: 1.6929\n",
      "Epoch 96/250\n",
      "25/25 [==============================] - 2s 80ms/step - loss: 0.3477 - val_loss: 1.7089\n",
      "Epoch 97/250\n",
      "25/25 [==============================] - 2s 83ms/step - loss: 0.3444 - val_loss: 1.6950\n",
      "Epoch 98/250\n",
      "25/25 [==============================] - 2s 80ms/step - loss: 0.3371 - val_loss: 1.7008\n",
      "Epoch 99/250\n",
      "25/25 [==============================] - 2s 80ms/step - loss: 0.3337 - val_loss: 1.6981\n",
      "Epoch 100/250\n",
      "25/25 [==============================] - 2s 81ms/step - loss: 0.3301 - val_loss: 1.7085\n",
      "Epoch 101/250\n",
      "25/25 [==============================] - 2s 74ms/step - loss: 0.3232 - val_loss: 1.7126\n",
      "Epoch 102/250\n",
      "25/25 [==============================] - 2s 74ms/step - loss: 0.3185 - val_loss: 1.7191\n",
      "Epoch 103/250\n",
      "25/25 [==============================] - 2s 77ms/step - loss: 0.3142 - val_loss: 1.7122\n",
      "Epoch 104/250\n",
      "25/25 [==============================] - 2s 74ms/step - loss: 0.3106 - val_loss: 1.7208\n",
      "Epoch 105/250\n",
      "25/25 [==============================] - 2s 75ms/step - loss: 0.3074 - val_loss: 1.7178\n",
      "Epoch 106/250\n",
      "25/25 [==============================] - 2s 80ms/step - loss: 0.3028 - val_loss: 1.7258\n",
      "Epoch 107/250\n",
      "25/25 [==============================] - 2s 74ms/step - loss: 0.3002 - val_loss: 1.7249\n",
      "Epoch 108/250\n",
      "25/25 [==============================] - 2s 81ms/step - loss: 0.2974 - val_loss: 1.7362\n",
      "Epoch 109/250\n",
      "25/25 [==============================] - 2s 81ms/step - loss: 0.2923 - val_loss: 1.7381\n",
      "Epoch 110/250\n",
      "25/25 [==============================] - 2s 75ms/step - loss: 0.2888 - val_loss: 1.7311\n",
      "Epoch 111/250\n",
      "25/25 [==============================] - 2s 74ms/step - loss: 0.2859 - val_loss: 1.7357\n",
      "Epoch 112/250\n",
      "25/25 [==============================] - 2s 74ms/step - loss: 0.2837 - val_loss: 1.7493\n",
      "Epoch 113/250\n",
      "25/25 [==============================] - 2s 80ms/step - loss: 0.2784 - val_loss: 1.7378\n",
      "Epoch 114/250\n",
      "25/25 [==============================] - 2s 74ms/step - loss: 0.2775 - val_loss: 1.7479\n",
      "Epoch 115/250\n",
      "25/25 [==============================] - 2s 75ms/step - loss: 0.2725 - val_loss: 1.7521\n",
      "Epoch 116/250\n",
      "25/25 [==============================] - 2s 83ms/step - loss: 0.2720 - val_loss: 1.7595\n",
      "Epoch 117/250\n",
      "25/25 [==============================] - 2s 80ms/step - loss: 0.2675 - val_loss: 1.7548\n",
      "Epoch 118/250\n",
      "25/25 [==============================] - 2s 74ms/step - loss: 0.2645 - val_loss: 1.7579\n",
      "Epoch 119/250\n",
      "25/25 [==============================] - 2s 74ms/step - loss: 0.2632 - val_loss: 1.7564\n",
      "Epoch 120/250\n",
      "25/25 [==============================] - 2s 74ms/step - loss: 0.2579 - val_loss: 1.7666\n",
      "Epoch 121/250\n",
      "25/25 [==============================] - 2s 81ms/step - loss: 0.2584 - val_loss: 1.7707\n",
      "Epoch 122/250\n",
      "25/25 [==============================] - 2s 82ms/step - loss: 0.2570 - val_loss: 1.7627\n",
      "Epoch 123/250\n",
      "25/25 [==============================] - 2s 74ms/step - loss: 0.2520 - val_loss: 1.7705\n",
      "Epoch 124/250\n",
      "25/25 [==============================] - 2s 80ms/step - loss: 0.2510 - val_loss: 1.7821\n",
      "Epoch 125/250\n",
      "25/25 [==============================] - 2s 74ms/step - loss: 0.2490 - val_loss: 1.7678\n",
      "Epoch 126/250\n",
      "25/25 [==============================] - 2s 74ms/step - loss: 0.2485 - val_loss: 1.7774\n",
      "Epoch 127/250\n",
      "25/25 [==============================] - 2s 73ms/step - loss: 0.2437 - val_loss: 1.7874\n",
      "Epoch 128/250\n",
      "25/25 [==============================] - 2s 82ms/step - loss: 0.2432 - val_loss: 1.7810\n",
      "Epoch 129/250\n",
      "25/25 [==============================] - 2s 75ms/step - loss: 0.2411 - val_loss: 1.7875\n",
      "Epoch 130/250\n",
      "25/25 [==============================] - 2s 74ms/step - loss: 0.2417 - val_loss: 1.7897\n",
      "Epoch 131/250\n",
      "25/25 [==============================] - 2s 80ms/step - loss: 0.2368 - val_loss: 1.7930\n",
      "Epoch 132/250\n",
      "25/25 [==============================] - 2s 74ms/step - loss: 0.2349 - val_loss: 1.7897\n",
      "Epoch 133/250\n",
      "25/25 [==============================] - 2s 75ms/step - loss: 0.2339 - val_loss: 1.7943\n",
      "Epoch 134/250\n",
      "25/25 [==============================] - 2s 81ms/step - loss: 0.2324 - val_loss: 1.7958\n",
      "Epoch 135/250\n",
      "25/25 [==============================] - 2s 77ms/step - loss: 0.2303 - val_loss: 1.8084\n",
      "Epoch 136/250\n",
      "25/25 [==============================] - 2s 74ms/step - loss: 0.2289 - val_loss: 1.8075\n",
      "Epoch 137/250\n",
      "25/25 [==============================] - 2s 74ms/step - loss: 0.2282 - val_loss: 1.8047\n",
      "Epoch 138/250\n",
      "25/25 [==============================] - 2s 74ms/step - loss: 0.2257 - val_loss: 1.8076\n",
      "Epoch 139/250\n",
      "25/25 [==============================] - 2s 74ms/step - loss: 0.2241 - val_loss: 1.8076\n",
      "Epoch 140/250\n",
      "25/25 [==============================] - 2s 74ms/step - loss: 0.2242 - val_loss: 1.8121\n",
      "Epoch 141/250\n",
      "25/25 [==============================] - 2s 82ms/step - loss: 0.2205 - val_loss: 1.8190\n",
      "Epoch 142/250\n",
      "25/25 [==============================] - 2s 75ms/step - loss: 0.2199 - val_loss: 1.8113\n",
      "Epoch 143/250\n",
      "25/25 [==============================] - 2s 74ms/step - loss: 0.2196 - val_loss: 1.8249\n",
      "Epoch 144/250\n",
      "25/25 [==============================] - 2s 81ms/step - loss: 0.2176 - val_loss: 1.8223\n",
      "Epoch 145/250\n",
      "25/25 [==============================] - 2s 81ms/step - loss: 0.2150 - val_loss: 1.8272\n",
      "Epoch 146/250\n",
      "25/25 [==============================] - 2s 74ms/step - loss: 0.2148 - val_loss: 1.8302\n",
      "Epoch 147/250\n",
      "25/25 [==============================] - 2s 76ms/step - loss: 0.2147 - val_loss: 1.8328\n",
      "Epoch 148/250\n",
      "25/25 [==============================] - 2s 82ms/step - loss: 0.2133 - val_loss: 1.8339\n",
      "Epoch 149/250\n",
      "25/25 [==============================] - 2s 81ms/step - loss: 0.2113 - val_loss: 1.8357\n",
      "Epoch 150/250\n",
      "25/25 [==============================] - 2s 81ms/step - loss: 0.2124 - val_loss: 1.8362\n",
      "Epoch 151/250\n",
      "25/25 [==============================] - 2s 81ms/step - loss: 0.2106 - val_loss: 1.8357\n",
      "Epoch 152/250\n",
      "25/25 [==============================] - 2s 80ms/step - loss: 0.2105 - val_loss: 1.8340\n",
      "Epoch 153/250\n",
      "25/25 [==============================] - 2s 83ms/step - loss: 0.2067 - val_loss: 1.8474\n",
      "Epoch 154/250\n",
      "25/25 [==============================] - 2s 82ms/step - loss: 0.2075 - val_loss: 1.8414\n",
      "Epoch 155/250\n",
      "25/25 [==============================] - 2s 74ms/step - loss: 0.2052 - val_loss: 1.8451\n",
      "Epoch 156/250\n",
      "25/25 [==============================] - 2s 74ms/step - loss: 0.2056 - val_loss: 1.8490\n",
      "Epoch 157/250\n",
      "25/25 [==============================] - 2s 81ms/step - loss: 0.2043 - val_loss: 1.8574\n",
      "Epoch 158/250\n",
      "25/25 [==============================] - 2s 74ms/step - loss: 0.2048 - val_loss: 1.8498\n",
      "Epoch 159/250\n",
      "25/25 [==============================] - 2s 81ms/step - loss: 0.2004 - val_loss: 1.8527\n",
      "Epoch 160/250\n",
      "25/25 [==============================] - 2s 76ms/step - loss: 0.2020 - val_loss: 1.8563\n",
      "Epoch 161/250\n",
      "25/25 [==============================] - 2s 80ms/step - loss: 0.2003 - val_loss: 1.8569\n",
      "Epoch 162/250\n",
      "25/25 [==============================] - 2s 80ms/step - loss: 0.2002 - val_loss: 1.8578\n",
      "Epoch 163/250\n",
      "25/25 [==============================] - 2s 74ms/step - loss: 0.1974 - val_loss: 1.8639\n",
      "Epoch 164/250\n",
      "25/25 [==============================] - 2s 74ms/step - loss: 0.1995 - val_loss: 1.8653\n",
      "Epoch 165/250\n",
      "25/25 [==============================] - 2s 80ms/step - loss: 0.1940 - val_loss: 1.8624\n",
      "Epoch 166/250\n",
      "25/25 [==============================] - 2s 77ms/step - loss: 0.1956 - val_loss: 1.8678\n",
      "Epoch 167/250\n",
      "25/25 [==============================] - 2s 81ms/step - loss: 0.1960 - val_loss: 1.8755\n",
      "Epoch 168/250\n",
      "25/25 [==============================] - 2s 74ms/step - loss: 0.1938 - val_loss: 1.8741\n",
      "Epoch 169/250\n",
      "25/25 [==============================] - 2s 81ms/step - loss: 0.1950 - val_loss: 1.8733\n",
      "Epoch 170/250\n",
      "25/25 [==============================] - 2s 81ms/step - loss: 0.1946 - val_loss: 1.8786\n",
      "Epoch 171/250\n",
      "25/25 [==============================] - 2s 74ms/step - loss: 0.1921 - val_loss: 1.8747\n",
      "Epoch 172/250\n",
      "25/25 [==============================] - 2s 83ms/step - loss: 0.1911 - val_loss: 1.8785\n",
      "Epoch 173/250\n",
      "25/25 [==============================] - 2s 75ms/step - loss: 0.1891 - val_loss: 1.8853\n",
      "Epoch 174/250\n",
      "25/25 [==============================] - 2s 74ms/step - loss: 0.1898 - val_loss: 1.8790\n",
      "Epoch 175/250\n",
      "25/25 [==============================] - 2s 81ms/step - loss: 0.1904 - val_loss: 1.8808\n",
      "Epoch 176/250\n",
      "25/25 [==============================] - 2s 81ms/step - loss: 0.1908 - val_loss: 1.8884\n",
      "Epoch 177/250\n",
      "25/25 [==============================] - 2s 75ms/step - loss: 0.1890 - val_loss: 1.8861\n",
      "Epoch 178/250\n",
      "25/25 [==============================] - 2s 82ms/step - loss: 0.1853 - val_loss: 1.8903\n",
      "Epoch 179/250\n",
      "25/25 [==============================] - 2s 81ms/step - loss: 0.1897 - val_loss: 1.8904\n",
      "Epoch 180/250\n",
      "25/25 [==============================] - 2s 74ms/step - loss: 0.1843 - val_loss: 1.8946\n",
      "Epoch 181/250\n",
      "25/25 [==============================] - 2s 74ms/step - loss: 0.1877 - val_loss: 1.8880\n",
      "Epoch 182/250\n",
      "25/25 [==============================] - 2s 80ms/step - loss: 0.1863 - val_loss: 1.8964\n",
      "Epoch 183/250\n",
      "25/25 [==============================] - 2s 74ms/step - loss: 0.1868 - val_loss: 1.8980\n",
      "Epoch 184/250\n",
      "25/25 [==============================] - 2s 82ms/step - loss: 0.1854 - val_loss: 1.8968\n",
      "Epoch 185/250\n",
      "25/25 [==============================] - 2s 82ms/step - loss: 0.1823 - val_loss: 1.9001\n",
      "Epoch 186/250\n",
      "25/25 [==============================] - 2s 80ms/step - loss: 0.1837 - val_loss: 1.9005\n",
      "Epoch 187/250\n",
      "25/25 [==============================] - 2s 74ms/step - loss: 0.1842 - val_loss: 1.8991\n",
      "Epoch 188/250\n",
      "25/25 [==============================] - 2s 81ms/step - loss: 0.1827 - val_loss: 1.9016\n",
      "Epoch 189/250\n",
      "25/25 [==============================] - 2s 81ms/step - loss: 0.1825 - val_loss: 1.8990\n",
      "Epoch 190/250\n",
      "25/25 [==============================] - 2s 82ms/step - loss: 0.1825 - val_loss: 1.9078\n",
      "Epoch 191/250\n",
      "25/25 [==============================] - 2s 76ms/step - loss: 0.1799 - val_loss: 1.9071\n",
      "Epoch 192/250\n",
      "25/25 [==============================] - 2s 74ms/step - loss: 0.1806 - val_loss: 1.9064\n",
      "Epoch 193/250\n",
      "25/25 [==============================] - 2s 81ms/step - loss: 0.1802 - val_loss: 1.9155\n",
      "Epoch 194/250\n",
      "25/25 [==============================] - 2s 74ms/step - loss: 0.1823 - val_loss: 1.9158\n",
      "Epoch 195/250\n",
      "25/25 [==============================] - 2s 74ms/step - loss: 0.1804 - val_loss: 1.9107\n",
      "Epoch 196/250\n",
      "25/25 [==============================] - 2s 75ms/step - loss: 0.1789 - val_loss: 1.9253\n",
      "Epoch 197/250\n",
      "25/25 [==============================] - 2s 84ms/step - loss: 0.1766 - val_loss: 1.9165\n",
      "Epoch 198/250\n",
      "25/25 [==============================] - 2s 80ms/step - loss: 0.1790 - val_loss: 1.9251\n",
      "Epoch 199/250\n",
      "25/25 [==============================] - 2s 81ms/step - loss: 0.1796 - val_loss: 1.9228\n",
      "Epoch 200/250\n",
      "25/25 [==============================] - 2s 80ms/step - loss: 0.1786 - val_loss: 1.9290\n",
      "Epoch 201/250\n",
      "25/25 [==============================] - 2s 74ms/step - loss: 0.1773 - val_loss: 1.9255\n",
      "Epoch 202/250\n",
      "25/25 [==============================] - 2s 80ms/step - loss: 0.1762 - val_loss: 1.9249\n",
      "Epoch 203/250\n",
      "25/25 [==============================] - 2s 83ms/step - loss: 0.1776 - val_loss: 1.9293\n",
      "Epoch 204/250\n",
      "25/25 [==============================] - 2s 74ms/step - loss: 0.1756 - val_loss: 1.9298\n",
      "Epoch 205/250\n",
      "25/25 [==============================] - 2s 81ms/step - loss: 0.1754 - val_loss: 1.9290\n",
      "Epoch 206/250\n",
      "25/25 [==============================] - 2s 74ms/step - loss: 0.1732 - val_loss: 1.9284\n",
      "Epoch 207/250\n",
      "25/25 [==============================] - 2s 74ms/step - loss: 0.1766 - val_loss: 1.9344\n",
      "Epoch 208/250\n",
      "25/25 [==============================] - 2s 81ms/step - loss: 0.1750 - val_loss: 1.9346\n",
      "Epoch 209/250\n",
      "25/25 [==============================] - 2s 77ms/step - loss: 0.1743 - val_loss: 1.9332\n",
      "Epoch 210/250\n",
      "25/25 [==============================] - 2s 81ms/step - loss: 0.1739 - val_loss: 1.9392\n",
      "Epoch 211/250\n",
      "25/25 [==============================] - 2s 74ms/step - loss: 0.1732 - val_loss: 1.9332\n",
      "Epoch 212/250\n",
      "25/25 [==============================] - 2s 81ms/step - loss: 0.1732 - val_loss: 1.9343\n",
      "Epoch 213/250\n",
      "25/25 [==============================] - 2s 74ms/step - loss: 0.1727 - val_loss: 1.9411\n",
      "Epoch 214/250\n",
      "25/25 [==============================] - 2s 74ms/step - loss: 0.1705 - val_loss: 1.9448\n",
      "Epoch 215/250\n",
      "25/25 [==============================] - 2s 75ms/step - loss: 0.1727 - val_loss: 1.9450\n",
      "Epoch 216/250\n",
      "25/25 [==============================] - 2s 82ms/step - loss: 0.1735 - val_loss: 1.9451\n",
      "Epoch 217/250\n",
      "25/25 [==============================] - 2s 74ms/step - loss: 0.1715 - val_loss: 1.9482\n",
      "Epoch 218/250\n",
      "25/25 [==============================] - 2s 80ms/step - loss: 0.1734 - val_loss: 1.9518\n",
      "Epoch 219/250\n",
      "25/25 [==============================] - 2s 75ms/step - loss: 0.1697 - val_loss: 1.9539\n",
      "Epoch 220/250\n",
      "25/25 [==============================] - 2s 81ms/step - loss: 0.1718 - val_loss: 1.9529\n",
      "Epoch 221/250\n",
      "25/25 [==============================] - 2s 81ms/step - loss: 0.1716 - val_loss: 1.9578\n",
      "Epoch 222/250\n",
      "25/25 [==============================] - 2s 76ms/step - loss: 0.1682 - val_loss: 1.9534\n",
      "Epoch 223/250\n",
      "25/25 [==============================] - 2s 75ms/step - loss: 0.1685 - val_loss: 1.9549\n",
      "Epoch 224/250\n",
      "25/25 [==============================] - 2s 74ms/step - loss: 0.1707 - val_loss: 1.9550\n",
      "Epoch 225/250\n",
      "25/25 [==============================] - 2s 75ms/step - loss: 0.1682 - val_loss: 1.9560\n",
      "Epoch 226/250\n",
      "25/25 [==============================] - 2s 74ms/step - loss: 0.1674 - val_loss: 1.9603\n",
      "Epoch 227/250\n",
      "25/25 [==============================] - 2s 74ms/step - loss: 0.1665 - val_loss: 1.9638\n",
      "Epoch 228/250\n",
      "25/25 [==============================] - 2s 82ms/step - loss: 0.1689 - val_loss: 1.9671\n",
      "Epoch 229/250\n",
      "25/25 [==============================] - 2s 74ms/step - loss: 0.1687 - val_loss: 1.9590\n",
      "Epoch 230/250\n",
      "25/25 [==============================] - 2s 81ms/step - loss: 0.1684 - val_loss: 1.9645\n",
      "Epoch 231/250\n",
      "25/25 [==============================] - 2s 75ms/step - loss: 0.1665 - val_loss: 1.9638\n",
      "Epoch 232/250\n",
      "25/25 [==============================] - 2s 75ms/step - loss: 0.1679 - val_loss: 1.9681\n",
      "Epoch 233/250\n",
      "25/25 [==============================] - 2s 81ms/step - loss: 0.1682 - val_loss: 1.9668\n",
      "Epoch 234/250\n",
      "25/25 [==============================] - 2s 82ms/step - loss: 0.1668 - val_loss: 1.9696\n",
      "Epoch 235/250\n",
      "25/25 [==============================] - 2s 75ms/step - loss: 0.1676 - val_loss: 1.9634\n",
      "Epoch 236/250\n",
      "25/25 [==============================] - 2s 81ms/step - loss: 0.1669 - val_loss: 1.9686\n",
      "Epoch 237/250\n",
      "25/25 [==============================] - 2s 74ms/step - loss: 0.1644 - val_loss: 1.9669\n",
      "Epoch 238/250\n",
      "25/25 [==============================] - 2s 74ms/step - loss: 0.1674 - val_loss: 1.9666\n",
      "Epoch 239/250\n",
      "25/25 [==============================] - 2s 75ms/step - loss: 0.1656 - val_loss: 1.9675\n",
      "Epoch 240/250\n",
      "25/25 [==============================] - 2s 75ms/step - loss: 0.1663 - val_loss: 1.9681\n",
      "Epoch 241/250\n",
      "25/25 [==============================] - 2s 82ms/step - loss: 0.1658 - val_loss: 1.9786\n",
      "Epoch 242/250\n",
      "25/25 [==============================] - 2s 81ms/step - loss: 0.1663 - val_loss: 1.9746\n",
      "Epoch 243/250\n",
      "25/25 [==============================] - 2s 75ms/step - loss: 0.1652 - val_loss: 1.9768\n",
      "Epoch 244/250\n",
      "25/25 [==============================] - 2s 75ms/step - loss: 0.1644 - val_loss: 1.9706\n",
      "Epoch 245/250\n",
      "25/25 [==============================] - 2s 75ms/step - loss: 0.1635 - val_loss: 1.9783\n",
      "Epoch 246/250\n",
      "25/25 [==============================] - 2s 75ms/step - loss: 0.1657 - val_loss: 1.9809\n",
      "Epoch 247/250\n",
      "25/25 [==============================] - 2s 83ms/step - loss: 0.1633 - val_loss: 1.9808\n",
      "Epoch 248/250\n",
      "25/25 [==============================] - 2s 81ms/step - loss: 0.1646 - val_loss: 1.9819\n",
      "Epoch 249/250\n",
      "25/25 [==============================] - 2s 81ms/step - loss: 0.1636 - val_loss: 1.9827\n",
      "Epoch 250/250\n",
      "25/25 [==============================] - 2s 81ms/step - loss: 0.1651 - val_loss: 1.9827\n"
     ]
    },
    {
     "output_type": "display_data",
     "data": {
      "text/plain": [
       "<Figure size 432x288 with 1 Axes>"
      ],
      "image/png": "[encoded data removed]"
     },
     "metadata": {
      "needs_background": "light"
     }
    }
   ]
  },
  {
   "cell_type": "code",
   "source": [
    "num_epochs = 100 #250\n",
    "model = make_model(eng_vocab_size, deu_vocab_size, eng_length, deu_length, 128)\n",
    "history = model.fit(trainX, trainY.reshape(trainY.shape[0], trainY.shape[1], 1), epochs=num_epochs, batch_size=128, validation_split=0.2, callbacks=None, verbose=2)\n",
    "plt.plot(history.history['loss'])\n",
    "plt.plot(history.history['val_loss'])\n",
    "plt.legend(['train','validation'])\n",
    "plt.show()\n",
    "model.save('en-de-model.h5')"
   ],
   "metadata": {
    "colab": {
     "base_uri": "https://localhost:8080/"
    },
    "id": "S3tTctIdAYKh",
    "outputId": "16ff13ad-c001-4207-ef70-d6a247de2163",
    "pycharm": {
     "name": "#%%\n"
    }
   },
   "execution_count": null,
   "outputs": [
    {
     "output_type": "stream",
     "name": "stdout",
     "text": [
      "Epoch 1/100\n",
      "300/300 - 19s - loss: 3.7547 - accuracy: 0.4980 - val_loss: 3.3085 - val_accuracy: 0.5309 - 19s/epoch - 62ms/step\n",
      "Epoch 2/100\n",
      "300/300 - 10s - loss: 3.2463 - accuracy: 0.5382 - val_loss: 3.0588 - val_accuracy: 0.5481 - 10s/epoch - 35ms/step\n",
      "Epoch 3/100\n",
      "300/300 - 11s - loss: 3.0280 - accuracy: 0.5633 - val_loss: 2.8952 - val_accuracy: 0.5754 - 11s/epoch - 38ms/step\n",
      "Epoch 4/100\n",
      "300/300 - 10s - loss: 2.9017 - accuracy: 0.5760 - val_loss: 2.8456 - val_accuracy: 0.5854 - 10s/epoch - 34ms/step\n",
      "Epoch 5/100\n",
      "300/300 - 10s - loss: 2.8137 - accuracy: 0.5864 - val_loss: 2.7509 - val_accuracy: 0.5953 - 10s/epoch - 34ms/step\n",
      "Epoch 6/100\n",
      "300/300 - 11s - loss: 2.7341 - accuracy: 0.5940 - val_loss: 2.6857 - val_accuracy: 0.6013 - 11s/epoch - 38ms/step\n",
      "Epoch 7/100\n",
      "300/300 - 10s - loss: 2.6657 - accuracy: 0.6009 - val_loss: 2.6429 - val_accuracy: 0.6047 - 10s/epoch - 34ms/step\n",
      "Epoch 8/100\n",
      "300/300 - 10s - loss: 2.6098 - accuracy: 0.6066 - val_loss: 2.5799 - val_accuracy: 0.6150 - 10s/epoch - 34ms/step\n",
      "Epoch 9/100\n",
      "300/300 - 11s - loss: 2.5598 - accuracy: 0.6124 - val_loss: 2.5389 - val_accuracy: 0.6211 - 11s/epoch - 38ms/step\n",
      "Epoch 10/100\n",
      "300/300 - 10s - loss: 2.5110 - accuracy: 0.6167 - val_loss: 2.5095 - val_accuracy: 0.6258 - 10s/epoch - 34ms/step\n",
      "Epoch 11/100\n",
      "300/300 - 11s - loss: 2.4677 - accuracy: 0.6220 - val_loss: 2.4822 - val_accuracy: 0.6309 - 11s/epoch - 38ms/step\n",
      "Epoch 12/100\n",
      "300/300 - 11s - loss: 2.4290 - accuracy: 0.6250 - val_loss: 2.4417 - val_accuracy: 0.6335 - 11s/epoch - 38ms/step\n",
      "Epoch 13/100\n",
      "300/300 - 10s - loss: 2.3974 - accuracy: 0.6290 - val_loss: 2.4307 - val_accuracy: 0.6356 - 10s/epoch - 34ms/step\n",
      "Epoch 14/100\n",
      "300/300 - 11s - loss: 2.3651 - accuracy: 0.6322 - val_loss: 2.4105 - val_accuracy: 0.6400 - 11s/epoch - 38ms/step\n",
      "Epoch 15/100\n",
      "300/300 - 10s - loss: 2.3306 - accuracy: 0.6359 - val_loss: 2.3862 - val_accuracy: 0.6407 - 10s/epoch - 34ms/step\n",
      "Epoch 16/100\n",
      "300/300 - 10s - loss: 2.3021 - accuracy: 0.6385 - val_loss: 2.3490 - val_accuracy: 0.6447 - 10s/epoch - 34ms/step\n",
      "Epoch 17/100\n",
      "300/300 - 11s - loss: 2.2767 - accuracy: 0.6416 - val_loss: 2.3716 - val_accuracy: 0.6482 - 11s/epoch - 38ms/step\n",
      "Epoch 18/100\n",
      "300/300 - 10s - loss: 2.2547 - accuracy: 0.6441 - val_loss: 2.3475 - val_accuracy: 0.6479 - 10s/epoch - 34ms/step\n",
      "Epoch 19/100\n",
      "300/300 - 10s - loss: 2.2315 - accuracy: 0.6476 - val_loss: 2.3262 - val_accuracy: 0.6510 - 10s/epoch - 34ms/step\n",
      "Epoch 20/100\n",
      "300/300 - 11s - loss: 2.2051 - accuracy: 0.6495 - val_loss: 2.2966 - val_accuracy: 0.6554 - 11s/epoch - 38ms/step\n",
      "Epoch 21/100\n",
      "300/300 - 11s - loss: 2.1786 - accuracy: 0.6518 - val_loss: 2.3221 - val_accuracy: 0.6550 - 11s/epoch - 38ms/step\n",
      "Epoch 22/100\n",
      "300/300 - 11s - loss: 2.1595 - accuracy: 0.6543 - val_loss: 2.3381 - val_accuracy: 0.6583 - 11s/epoch - 38ms/step\n",
      "Epoch 23/100\n",
      "300/300 - 10s - loss: 2.1383 - accuracy: 0.6576 - val_loss: 2.3303 - val_accuracy: 0.6606 - 10s/epoch - 34ms/step\n",
      "Epoch 24/100\n",
      "300/300 - 11s - loss: 2.1240 - accuracy: 0.6599 - val_loss: 2.2700 - val_accuracy: 0.6614 - 11s/epoch - 38ms/step\n",
      "Epoch 25/100\n",
      "300/300 - 11s - loss: 2.1023 - accuracy: 0.6619 - val_loss: 2.2487 - val_accuracy: 0.6629 - 11s/epoch - 38ms/step\n",
      "Epoch 26/100\n",
      "300/300 - 10s - loss: 2.0847 - accuracy: 0.6641 - val_loss: 2.2707 - val_accuracy: 0.6646 - 10s/epoch - 34ms/step\n",
      "Epoch 27/100\n",
      "300/300 - 10s - loss: 2.0675 - accuracy: 0.6658 - val_loss: 2.2467 - val_accuracy: 0.6655 - 10s/epoch - 34ms/step\n",
      "Epoch 28/100\n",
      "300/300 - 10s - loss: 2.0431 - accuracy: 0.6678 - val_loss: 2.2606 - val_accuracy: 0.6694 - 10s/epoch - 34ms/step\n",
      "Epoch 29/100\n",
      "300/300 - 11s - loss: 2.0228 - accuracy: 0.6700 - val_loss: 2.2546 - val_accuracy: 0.6650 - 11s/epoch - 38ms/step\n",
      "Epoch 30/100\n",
      "300/300 - 10s - loss: 2.0044 - accuracy: 0.6725 - val_loss: 2.2692 - val_accuracy: 0.6678 - 10s/epoch - 34ms/step\n",
      "Epoch 31/100\n",
      "300/300 - 10s - loss: 1.9861 - accuracy: 0.6736 - val_loss: 2.2525 - val_accuracy: 0.6729 - 10s/epoch - 34ms/step\n",
      "Epoch 32/100\n",
      "300/300 - 10s - loss: 1.9686 - accuracy: 0.6759 - val_loss: 2.2275 - val_accuracy: 0.6714 - 10s/epoch - 34ms/step\n",
      "Epoch 33/100\n"
     ]
    }
   ]
  },
  {
   "cell_type": "code",
   "source": [
    "model = load_model('en-de-model.h5')"
   ],
   "metadata": {
    "id": "TJL8JUqJyYw7",
    "pycharm": {
     "name": "#%%\n"
    }
   },
   "execution_count": 20,
   "outputs": []
  },
  {
   "cell_type": "code",
   "source": [
    "def get_word(n, tokenizer):\n",
    "    if n == 0:\n",
    "        return \"\"\n",
    "    for word, index in tokenizer.word_index.items():\n",
    "        if index == n:\n",
    "            return word\n",
    "    return \"\""
   ],
   "metadata": {
    "id": "yVwFfW6OycW2",
    "pycharm": {
     "name": "#%%\n"
    }
   },
   "execution_count": 21,
   "outputs": []
  },
  {
   "cell_type": "code",
   "source": [
    "phrs_enc = encode_sequences(eng_tokenizer, eng_length, [\"the weather is nice today\", \"my name is tom\", \"how old are you\", \"where is the nearest shop\"])\n",
    "print(\"phrs_enc:\", phrs_enc.shape)\n",
    "\n",
    "preds = np.argmax(model.predict(phrs_enc), axis=-1)\n",
    "print(\"Preds:\", preds.shape)\n",
    "print(preds[0])\n",
    "print(get_word(preds[0][0], deu_tokenizer), get_word(preds[0][1], deu_tokenizer), get_word(preds[0][2], deu_tokenizer), get_word(preds[0][3], deu_tokenizer))\n",
    "print(preds[1])\n",
    "print(get_word(preds[1][0], deu_tokenizer), get_word(preds[1][1], deu_tokenizer), get_word(preds[1][2], deu_tokenizer), get_word(preds[1][3], deu_tokenizer))\n",
    "print(preds[2])\n",
    "print(get_word(preds[2][0], deu_tokenizer), get_word(preds[2][1], deu_tokenizer), get_word(preds[2][2], deu_tokenizer), get_word(preds[2][3], deu_tokenizer))\n",
    "print(preds[3])\n",
    "print(get_word(preds[3][0], deu_tokenizer), get_word(preds[3][1], deu_tokenizer), get_word(preds[3][2], deu_tokenizer), get_word(preds[3][3], deu_tokenizer))\n",
    "print()"
   ],
   "metadata": {
    "colab": {
     "base_uri": "https://localhost:8080/"
    },
    "id": "EN_MCwOjye2F",
    "outputId": "62c3ff39-9c02-4960-87ae-3181ae39bf46",
    "pycharm": {
     "name": "#%%\n"
    }
   },
   "execution_count": 22,
   "outputs": [
    {
     "output_type": "stream",
     "name": "stdout",
     "text": [
      "phrs_enc: (4, 8)\n",
      "1/1 [==============================] - 1s 1s/step\n",
      "Preds: (4, 8)\n",
      "[  42    3    3 2736    0    0    0    0]\n",
      "der ist ist vorüber\n",
      "[   2 1354    1  775    0    0    0    0]\n",
      "ich heiße tom name\n",
      "[ 37 166  19   4   0   0   0   0]\n",
      "wie alt sind sie\n",
      "[  77    3   20 2991    0    0    0    0]\n",
      "wo ist die zoo\n",
      "\n"
     ]
    }
   ]
  },
  {
   "cell_type": "code",
   "source": [
    "phrs_enc = encode_sequences(eng_tokenizer, eng_length, [\"home\", \"building\", \"house\", \"formation\"])\n",
    "print(\"phrs_enc:\", phrs_enc.shape)\n",
    "\n",
    "preds = np.argmax(model.predict(phrs_enc), axis=-1)\n",
    "print(\"Preds:\", preds.shape)\n",
    "print(preds[0])\n",
    "print(get_word(preds[0][0], deu_tokenizer), get_word(preds[0][1], deu_tokenizer), get_word(preds[0][2], deu_tokenizer), get_word(preds[0][3], deu_tokenizer))\n",
    "print(preds[1])\n",
    "print(get_word(preds[1][0], deu_tokenizer), get_word(preds[1][1], deu_tokenizer), get_word(preds[1][2], deu_tokenizer), get_word(preds[1][3], deu_tokenizer))\n",
    "print(preds[2])\n",
    "print(get_word(preds[2][0], deu_tokenizer), get_word(preds[2][1], deu_tokenizer), get_word(preds[2][2], deu_tokenizer), get_word(preds[2][3], deu_tokenizer))\n",
    "print(preds[3])\n",
    "print(get_word(preds[3][0], deu_tokenizer), get_word(preds[3][1], deu_tokenizer), get_word(preds[3][2], deu_tokenizer), get_word(preds[3][3], deu_tokenizer))\n",
    "print()"
   ],
   "metadata": {
    "id": "1wRMpRpzygjw",
    "colab": {
     "base_uri": "https://localhost:8080/"
    },
    "outputId": "b58186e5-28db-4fd9-cae8-987af218ea50",
    "pycharm": {
     "name": "#%%\n"
    }
   },
   "execution_count": 23,
   "outputs": [
    {
     "output_type": "stream",
     "name": "stdout",
     "text": [
      "phrs_enc: (4, 8)\n",
      "1/1 [==============================] - 0s 20ms/step\n",
      "Preds: (4, 8)\n",
      "[67 55 67  0  0  0  0  0]\n",
      "hause geht hause \n",
      "[2800    0    0    0    0    0    0    0]\n",
      "bienen   \n",
      "[  1  34 238   0   0   0   0   0]\n",
      "tom aus haus \n",
      "[2800    0    0    0    0    0    0    0]\n",
      "bienen   \n",
      "\n"
     ]
    }
   ]
  }
 ]
}