{
 "cells": [
  {
   "cell_type": "code",
   "execution_count": 4,
   "id": "9957aff3",
   "metadata": {},
   "outputs": [],
   "source": [
    "import pandas as pd\n",
    "\n",
    "data = pd.read_csv('dataset_Facebook.csv',sep=';')"
   ]
  },
  {
   "cell_type": "code",
   "execution_count": 18,
   "id": "181619e7",
   "metadata": {},
   "outputs": [],
   "source": [
    "data.loc[:,['Type']] = data.loc[:,['Type']].replace({'Photo':0,'Status':1,'Link':2,'Video':3})"
   ]
  },
  {
   "cell_type": "code",
   "execution_count": 19,
   "id": "e4b18583",
   "metadata": {
    "collapsed": true
   },
   "outputs": [
    {
     "data": {
      "text/html": [
       "<div>\n",
       "<style scoped>\n",
       "    .dataframe tbody tr th:only-of-type {\n",
       "        vertical-align: middle;\n",
       "    }\n",
       "\n",
       "    .dataframe tbody tr th {\n",
       "        vertical-align: top;\n",
       "    }\n",
       "\n",
       "    .dataframe thead th {\n",
       "        text-align: right;\n",
       "    }\n",
       "</style>\n",
       "<table border=\"1\" class=\"dataframe\">\n",
       "  <thead>\n",
       "    <tr style=\"text-align: right;\">\n",
       "      <th></th>\n",
       "      <th>Page total likes</th>\n",
       "      <th>Type</th>\n",
       "      <th>Category</th>\n",
       "      <th>Post Month</th>\n",
       "      <th>Post Weekday</th>\n",
       "      <th>Post Hour</th>\n",
       "      <th>Paid</th>\n",
       "      <th>Lifetime Post Total Reach</th>\n",
       "      <th>Lifetime Post Total Impressions</th>\n",
       "      <th>Lifetime Engaged Users</th>\n",
       "      <th>Lifetime Post Consumers</th>\n",
       "      <th>Lifetime Post Consumptions</th>\n",
       "      <th>Lifetime Post Impressions by people who have liked your Page</th>\n",
       "      <th>Lifetime Post reach by people who like your Page</th>\n",
       "      <th>Lifetime People who have liked your Page and engaged with your post</th>\n",
       "      <th>comment</th>\n",
       "      <th>like</th>\n",
       "      <th>share</th>\n",
       "      <th>Total Interactions</th>\n",
       "    </tr>\n",
       "  </thead>\n",
       "  <tbody>\n",
       "    <tr>\n",
       "      <th>0</th>\n",
       "      <td>139441</td>\n",
       "      <td>0</td>\n",
       "      <td>2</td>\n",
       "      <td>12</td>\n",
       "      <td>4.0</td>\n",
       "      <td>3</td>\n",
       "      <td>0.0</td>\n",
       "      <td>2752.0</td>\n",
       "      <td>5091.0</td>\n",
       "      <td>178.0</td>\n",
       "      <td>109.0</td>\n",
       "      <td>159.0</td>\n",
       "      <td>3078.0</td>\n",
       "      <td>1640.0</td>\n",
       "      <td>119.0</td>\n",
       "      <td>4.0</td>\n",
       "      <td>79.0</td>\n",
       "      <td>17.0</td>\n",
       "      <td>100</td>\n",
       "    </tr>\n",
       "    <tr>\n",
       "      <th>1</th>\n",
       "      <td>139441</td>\n",
       "      <td>1</td>\n",
       "      <td>2</td>\n",
       "      <td>12</td>\n",
       "      <td>3.0</td>\n",
       "      <td>10</td>\n",
       "      <td>0.0</td>\n",
       "      <td>10460.0</td>\n",
       "      <td>19057.0</td>\n",
       "      <td>1457.0</td>\n",
       "      <td>1361.0</td>\n",
       "      <td>1674.0</td>\n",
       "      <td>11710.0</td>\n",
       "      <td>6112.0</td>\n",
       "      <td>1108.0</td>\n",
       "      <td>5.0</td>\n",
       "      <td>130.0</td>\n",
       "      <td>29.0</td>\n",
       "      <td>164</td>\n",
       "    </tr>\n",
       "    <tr>\n",
       "      <th>2</th>\n",
       "      <td>139441</td>\n",
       "      <td>0</td>\n",
       "      <td>3</td>\n",
       "      <td>12</td>\n",
       "      <td>3.0</td>\n",
       "      <td>3</td>\n",
       "      <td>0.0</td>\n",
       "      <td>2413.0</td>\n",
       "      <td>4373.0</td>\n",
       "      <td>177.0</td>\n",
       "      <td>113.0</td>\n",
       "      <td>154.0</td>\n",
       "      <td>2812.0</td>\n",
       "      <td>1503.0</td>\n",
       "      <td>132.0</td>\n",
       "      <td>0.0</td>\n",
       "      <td>66.0</td>\n",
       "      <td>14.0</td>\n",
       "      <td>80</td>\n",
       "    </tr>\n",
       "    <tr>\n",
       "      <th>3</th>\n",
       "      <td>139441</td>\n",
       "      <td>0</td>\n",
       "      <td>2</td>\n",
       "      <td>12</td>\n",
       "      <td>2.0</td>\n",
       "      <td>10</td>\n",
       "      <td>1.0</td>\n",
       "      <td>50128.0</td>\n",
       "      <td>87991.0</td>\n",
       "      <td>2211.0</td>\n",
       "      <td>790.0</td>\n",
       "      <td>1119.0</td>\n",
       "      <td>61027.0</td>\n",
       "      <td>32048.0</td>\n",
       "      <td>1386.0</td>\n",
       "      <td>58.0</td>\n",
       "      <td>1572.0</td>\n",
       "      <td>147.0</td>\n",
       "      <td>1777</td>\n",
       "    </tr>\n",
       "    <tr>\n",
       "      <th>4</th>\n",
       "      <td>139441</td>\n",
       "      <td>0</td>\n",
       "      <td>2</td>\n",
       "      <td>12</td>\n",
       "      <td>2.0</td>\n",
       "      <td>3</td>\n",
       "      <td>0.0</td>\n",
       "      <td>7244.0</td>\n",
       "      <td>13594.0</td>\n",
       "      <td>671.0</td>\n",
       "      <td>410.0</td>\n",
       "      <td>580.0</td>\n",
       "      <td>6228.0</td>\n",
       "      <td>3200.0</td>\n",
       "      <td>396.0</td>\n",
       "      <td>19.0</td>\n",
       "      <td>325.0</td>\n",
       "      <td>49.0</td>\n",
       "      <td>393</td>\n",
       "    </tr>\n",
       "  </tbody>\n",
       "</table>\n",
       "</div>"
      ],
      "text/plain": [
       "   Page total likes  Type  Category  Post Month  Post Weekday  Post Hour  \\\n",
       "0            139441     0         2          12           4.0          3   \n",
       "1            139441     1         2          12           3.0         10   \n",
       "2            139441     0         3          12           3.0          3   \n",
       "3            139441     0         2          12           2.0         10   \n",
       "4            139441     0         2          12           2.0          3   \n",
       "\n",
       "   Paid  Lifetime Post Total Reach  Lifetime Post Total Impressions  \\\n",
       "0   0.0                     2752.0                           5091.0   \n",
       "1   0.0                    10460.0                          19057.0   \n",
       "2   0.0                     2413.0                           4373.0   \n",
       "3   1.0                    50128.0                          87991.0   \n",
       "4   0.0                     7244.0                          13594.0   \n",
       "\n",
       "   Lifetime Engaged Users  Lifetime Post Consumers  \\\n",
       "0                   178.0                    109.0   \n",
       "1                  1457.0                   1361.0   \n",
       "2                   177.0                    113.0   \n",
       "3                  2211.0                    790.0   \n",
       "4                   671.0                    410.0   \n",
       "\n",
       "   Lifetime Post Consumptions  \\\n",
       "0                       159.0   \n",
       "1                      1674.0   \n",
       "2                       154.0   \n",
       "3                      1119.0   \n",
       "4                       580.0   \n",
       "\n",
       "   Lifetime Post Impressions by people who have liked your Page  \\\n",
       "0                                             3078.0              \n",
       "1                                            11710.0              \n",
       "2                                             2812.0              \n",
       "3                                            61027.0              \n",
       "4                                             6228.0              \n",
       "\n",
       "   Lifetime Post reach by people who like your Page  \\\n",
       "0                                            1640.0   \n",
       "1                                            6112.0   \n",
       "2                                            1503.0   \n",
       "3                                           32048.0   \n",
       "4                                            3200.0   \n",
       "\n",
       "   Lifetime People who have liked your Page and engaged with your post  \\\n",
       "0                                              119.0                     \n",
       "1                                             1108.0                     \n",
       "2                                              132.0                     \n",
       "3                                             1386.0                     \n",
       "4                                              396.0                     \n",
       "\n",
       "   comment    like  share  Total Interactions  \n",
       "0      4.0    79.0   17.0                 100  \n",
       "1      5.0   130.0   29.0                 164  \n",
       "2      0.0    66.0   14.0                  80  \n",
       "3     58.0  1572.0  147.0                1777  \n",
       "4     19.0   325.0   49.0                 393  "
      ]
     },
     "execution_count": 19,
     "metadata": {},
     "output_type": "execute_result"
    }
   ],
   "source": [
    "data.head()"
   ]
  },
  {
   "cell_type": "code",
   "execution_count": 20,
   "id": "9c4ca828",
   "metadata": {},
   "outputs": [],
   "source": [
    "data = data.dropna(axis = 0)"
   ]
  },
  {
   "cell_type": "code",
   "execution_count": 21,
   "id": "5cf0ced0",
   "metadata": {
    "collapsed": true
   },
   "outputs": [
    {
     "name": "stdout",
     "output_type": "stream",
     "text": [
      "<class 'pandas.core.frame.DataFrame'>\n",
      "Int64Index: 441 entries, 0 to 498\n",
      "Data columns (total 19 columns):\n",
      " #   Column                                                               Non-Null Count  Dtype  \n",
      "---  ------                                                               --------------  -----  \n",
      " 0   Page total likes                                                     441 non-null    int64  \n",
      " 1   Type                                                                 441 non-null    int64  \n",
      " 2   Category                                                             441 non-null    int64  \n",
      " 3   Post Month                                                           441 non-null    int64  \n",
      " 4   Post Weekday                                                         441 non-null    float64\n",
      " 5   Post Hour                                                            441 non-null    int64  \n",
      " 6   Paid                                                                 441 non-null    float64\n",
      " 7   Lifetime Post Total Reach                                            441 non-null    float64\n",
      " 8   Lifetime Post Total Impressions                                      441 non-null    float64\n",
      " 9   Lifetime Engaged Users                                               441 non-null    float64\n",
      " 10  Lifetime Post Consumers                                              441 non-null    float64\n",
      " 11  Lifetime Post Consumptions                                           441 non-null    float64\n",
      " 12  Lifetime Post Impressions by people who have liked your Page         441 non-null    float64\n",
      " 13  Lifetime Post reach by people who like your Page                     441 non-null    float64\n",
      " 14  Lifetime People who have liked your Page and engaged with your post  441 non-null    float64\n",
      " 15  comment                                                              441 non-null    float64\n",
      " 16  like                                                                 441 non-null    float64\n",
      " 17  share                                                                441 non-null    float64\n",
      " 18  Total Interactions                                                   441 non-null    int64  \n",
      "dtypes: float64(13), int64(6)\n",
      "memory usage: 68.9 KB\n"
     ]
    }
   ],
   "source": [
    "data.info()"
   ]
  },
  {
   "cell_type": "code",
   "execution_count": 23,
   "id": "b5fc17ca",
   "metadata": {},
   "outputs": [],
   "source": [
    "y = data['Paid']\n",
    "X = data.drop('Paid',axis = 1)"
   ]
  },
  {
   "cell_type": "code",
   "execution_count": 24,
   "id": "154e263a",
   "metadata": {},
   "outputs": [],
   "source": [
    "try:\n",
    "    from sklearn.model_selection import validation_curve\n",
    "except ImportError:\n",
    "    from sklearn.learning_curve import validation_curve\n",
    "\n",
    "try:\n",
    "    from sklearn.model_selection import StratifiedKFold\n",
    "except ImportError:\n",
    "    from sklearn.cross_validation import StratifiedKFold"
   ]
  },
  {
   "cell_type": "code",
   "execution_count": 41,
   "id": "8489dc18",
   "metadata": {},
   "outputs": [],
   "source": [
    "from sklearn.tree import DecisionTreeClassifier \n",
    "model = DecisionTreeClassifier(random_state=154) \n",
    "\n",
    "cv = StratifiedKFold(n_splits=5, shuffle=True, random_state=145) \n",
    "train_scores, valid_scores = validation_curve(model, X, y, param_name='max_depth', param_range=range(1, 15),cv=cv, scoring='roc_auc')"
   ]
  },
  {
   "cell_type": "code",
   "execution_count": 43,
   "id": "f5f11eb4",
   "metadata": {},
   "outputs": [
    {
     "data": {
      "text/plain": [
       "Text(0, 0.5, 'ROC AUC')"
      ]
     },
     "execution_count": 43,
     "metadata": {},
     "output_type": "execute_result"
    },
    {
     "data": {
      "image/png": "[encoded data removed]",
      "text/plain": [
       "<Figure size 432x288 with 1 Axes>"
      ]
     },
     "metadata": {
      "needs_background": "light"
     },
     "output_type": "display_data"
    }
   ],
   "source": [
    "import numpy as np\n",
    "import matplotlib.pyplot as plt \n",
    "train_score_mean = train_scores.mean(axis=1)\n",
    "train_score_std = train_scores.std(axis=1)\n",
    "valid_scores_mean = valid_scores.mean(axis=1)\n",
    "valid_scores_std = valid_scores.std(axis=1)\n",
    "\n",
    "plt.fill_between(range(1,15), train_score_mean-train_score_std, train_score_mean+train_score_std, color='b',\n",
    "                 interpolate=True, alpha=0.5,)\n",
    "plt.fill_between(range(1,15), valid_scores_mean-valid_scores_std, valid_scores_mean+valid_scores_std, color='r', \n",
    "                 interpolate=True, alpha=0.5)\n",
    "\n",
    "plt.plot(range(1,15), train_score_mean, c='b', lw=2)\n",
    "plt.plot(range(1,15), valid_scores_mean, c='r', lw=2)\n",
    "\n",
    "plt.xlabel('max depth')\n",
    "plt.ylabel('ROC AUC')"
   ]
  },
  {
   "cell_type": "code",
   "execution_count": 44,
   "id": "52554e4b",
   "metadata": {},
   "outputs": [],
   "source": [
    "try:\n",
    "    from sklearn.model_selection import RandomizedSearchCV \n",
    "except ImportError:\n",
    "    from sklearn.cross_validation import RandomizedSearchCV\n",
    "    \n",
    "RND_SEED = 154"
   ]
  },
  {
   "cell_type": "code",
   "execution_count": 53,
   "id": "7e67bb0f",
   "metadata": {},
   "outputs": [
    {
     "data": {
      "text/plain": [
       "RandomizedSearchCV(cv=StratifiedKFold(n_splits=5, random_state=145, shuffle=True),\n",
       "                   estimator=DecisionTreeClassifier(random_state=145),\n",
       "                   n_iter=160, n_jobs=-1,\n",
       "                   param_distributions={'class_weight': [None, 'balanced'],\n",
       "                                        'criterion': ['gini', 'entropy'],\n",
       "                                        'max_depth': range(2, 8),\n",
       "                                        'min_samples_leaf': range(3, 10)},\n",
       "                   random_state=145, scoring='roc_auc')"
      ]
     },
     "execution_count": 53,
     "metadata": {},
     "output_type": "execute_result"
    }
   ],
   "source": [
    "param_grid = {\n",
    "    'criterion': ['gini', 'entropy'],\n",
    "    'max_depth': range(2, 8),\n",
    "    'min_samples_leaf': range(3, 10),\n",
    "    'class_weight': [None, 'balanced']}\n",
    "\n",
    "cv = StratifiedKFold(n_splits=5, random_state=145, shuffle=True)\n",
    "\n",
    "model = DecisionTreeClassifier(random_state=145)\n",
    "random_search = RandomizedSearchCV(model, param_distributions=param_grid, n_iter=160, n_jobs=-1,\n",
    "                                   cv=cv, scoring='roc_auc', random_state=145)\n",
    "\n",
    "random_search.fit(X, y)"
   ]
  },
  {
   "cell_type": "code",
   "execution_count": 54,
   "id": "dc4392bb",
   "metadata": {},
   "outputs": [
    {
     "data": {
      "text/plain": [
       "{'min_samples_leaf': 5,\n",
       " 'max_depth': 2,\n",
       " 'criterion': 'gini',\n",
       " 'class_weight': 'balanced'}"
      ]
     },
     "execution_count": 54,
     "metadata": {},
     "output_type": "execute_result"
    }
   ],
   "source": [
    "random_search.best_params_"
   ]
  },
  {
   "cell_type": "code",
   "execution_count": 55,
   "id": "a8990bf3",
   "metadata": {},
   "outputs": [
    {
     "data": {
      "text/plain": [
       "0.590375"
      ]
     },
     "execution_count": 55,
     "metadata": {},
     "output_type": "execute_result"
    }
   ],
   "source": [
    "random_search.best_score_"
   ]
  },
  {
   "cell_type": "code",
   "execution_count": 56,
   "id": "88b8fc59",
   "metadata": {},
   "outputs": [
    {
     "data": {
      "text/plain": [
       "DecisionTreeClassifier(class_weight='balanced', max_depth=2, min_samples_leaf=5,\n",
       "                       random_state=145)"
      ]
     },
     "execution_count": 56,
     "metadata": {},
     "output_type": "execute_result"
    }
   ],
   "source": [
    "best_model = random_search.best_estimator_;\n",
    "best_model"
   ]
  },
  {
   "cell_type": "code",
   "execution_count": 57,
   "id": "e56969e4",
   "metadata": {},
   "outputs": [],
   "source": [
    "model = random_search.best_estimator_\n",
    "imp = model.feature_importances_"
   ]
  },
  {
   "cell_type": "code",
   "execution_count": 58,
   "id": "dd65de75",
   "metadata": {},
   "outputs": [
    {
     "data": {
      "text/plain": [
       "Page total likes                                                       0.000000\n",
       "comment                                                                0.000000\n",
       "Lifetime People who have liked your Page and engaged with your post    0.000000\n",
       "Lifetime Post Impressions by people who have liked your Page           0.000000\n",
       "Lifetime Post Consumptions                                             0.000000\n",
       "Lifetime Post Consumers                                                0.000000\n",
       "Lifetime Engaged Users                                                 0.000000\n",
       "like                                                                   0.000000\n",
       "share                                                                  0.000000\n",
       "Paid                                                                   0.000000\n",
       "Post Hour                                                              0.000000\n",
       "Post Weekday                                                           0.000000\n",
       "Post Month                                                             0.000000\n",
       "Category                                                               0.000000\n",
       "Type                                                                   0.000000\n",
       "Lifetime Post Total Impressions                                        0.227302\n",
       "Lifetime Post Total Reach                                              0.276830\n",
       "Lifetime Post reach by people who like your Page                       0.495868\n",
       "dtype: float64"
      ]
     },
     "execution_count": 58,
     "metadata": {},
     "output_type": "execute_result"
    }
   ],
   "source": [
    "pd.Series(index=data.columns[:-1], data = imp).sort_values()"
   ]
  }
 ],
 "metadata": {
  "kernelspec": {
   "display_name": "Python 3 (ipykernel)",
   "language": "python",
   "name": "python3"
  },
  "language_info": {
   "codemirror_mode": {
    "name": "ipython",
    "version": 3
   },
   "file_extension": ".py",
   "mimetype": "text/x-python",
   "name": "python",
   "nbconvert_exporter": "python",
   "pygments_lexer": "ipython3",
   "version": "3.9.12"
  }
 },
 "nbformat": 4,
 "nbformat_minor": 5
}
