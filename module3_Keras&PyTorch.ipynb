{
 "cells": [
  {
   "cell_type": "code",
   "execution_count": null,
   "id": "1ab4571a",
   "metadata": {
    "id": "1ab4571a",
    "outputId": "9f814801-af32-4579-c3e9-6f6a5ac776c4",
    "pycharm": {
     "name": "#%%\n"
    }
   },
   "outputs": [
    {
     "name": "stdout",
     "output_type": "stream",
     "text": [
      "Collecting tensorflow\n",
      "  Downloading tensorflow-2.11.0-cp39-cp39-win_amd64.whl (1.9 kB)\n",
      "Collecting tensorflow-intel==2.11.0\n",
      "  Downloading tensorflow_intel-2.11.0-cp39-cp39-win_amd64.whl (266.3 MB)\n",
      "Requirement already satisfied: grpcio<2.0,>=1.24.3 in a:\\anaconda4\\lib\\site-packages (from tensorflow-intel==2.11.0->tensorflow) (1.42.0)\n",
      "Collecting astunparse>=1.6.0\n",
      "  Downloading astunparse-1.6.3-py2.py3-none-any.whl (12 kB)\n",
      "Requirement already satisfied: setuptools in a:\\anaconda4\\lib\\site-packages (from tensorflow-intel==2.11.0->tensorflow) (61.2.0)\n",
      "Collecting flatbuffers>=2.0\n",
      "  Downloading flatbuffers-22.10.26-py2.py3-none-any.whl (26 kB)\n",
      "Collecting opt-einsum>=2.3.2\n",
      "  Downloading opt_einsum-3.3.0-py3-none-any.whl (65 kB)\n",
      "Collecting absl-py>=1.0.0\n",
      "  Downloading absl_py-1.3.0-py3-none-any.whl (124 kB)\n",
      "Requirement already satisfied: typing-extensions>=3.6.6 in a:\\anaconda4\\lib\\site-packages (from tensorflow-intel==2.11.0->tensorflow) (4.1.1)\n",
      "Requirement already satisfied: numpy>=1.20 in a:\\anaconda4\\lib\\site-packages (from tensorflow-intel==2.11.0->tensorflow) (1.21.5)\n",
      "Collecting gast<=0.4.0,>=0.2.1\n",
      "  Downloading gast-0.4.0-py3-none-any.whl (9.8 kB)\n",
      "Collecting google-pasta>=0.1.1\n",
      "  Downloading google_pasta-0.2.0-py3-none-any.whl (57 kB)\n",
      "Requirement already satisfied: wrapt>=1.11.0 in a:\\anaconda4\\lib\\site-packages (from tensorflow-intel==2.11.0->tensorflow) (1.12.1)\n",
      "Requirement already satisfied: six>=1.12.0 in a:\\anaconda4\\lib\\site-packages (from tensorflow-intel==2.11.0->tensorflow) (1.16.0)\n",
      "Collecting tensorflow-estimator<2.12,>=2.11.0\n",
      "  Downloading tensorflow_estimator-2.11.0-py2.py3-none-any.whl (439 kB)\n",
      "Collecting libclang>=13.0.0\n",
      "  Downloading libclang-14.0.6-py2.py3-none-win_amd64.whl (14.2 MB)\n",
      "Collecting tensorflow-io-gcs-filesystem>=0.23.1\n",
      "  Downloading tensorflow_io_gcs_filesystem-0.28.0-cp39-cp39-win_amd64.whl (1.5 MB)\n",
      "Collecting termcolor>=1.1.0\n",
      "  Downloading termcolor-2.1.1-py3-none-any.whl (6.2 kB)\n",
      "Requirement already satisfied: protobuf<3.20,>=3.9.2 in a:\\anaconda4\\lib\\site-packages (from tensorflow-intel==2.11.0->tensorflow) (3.19.1)\n",
      "Collecting keras<2.12,>=2.11.0\n",
      "  Downloading keras-2.11.0-py2.py3-none-any.whl (1.7 MB)\n",
      "Requirement already satisfied: h5py>=2.9.0 in a:\\anaconda4\\lib\\site-packages (from tensorflow-intel==2.11.0->tensorflow) (3.6.0)\n",
      "Collecting tensorboard<2.12,>=2.11\n",
      "  Downloading tensorboard-2.11.0-py3-none-any.whl (6.0 MB)\n",
      "Requirement already satisfied: packaging in a:\\anaconda4\\lib\\site-packages (from tensorflow-intel==2.11.0->tensorflow) (21.3)\n",
      "Requirement already satisfied: wheel<1.0,>=0.23.0 in a:\\anaconda4\\lib\\site-packages (from astunparse>=1.6.0->tensorflow-intel==2.11.0->tensorflow) (0.37.1)\n",
      "Requirement already satisfied: google-auth<3,>=1.6.3 in a:\\anaconda4\\lib\\site-packages (from tensorboard<2.12,>=2.11->tensorflow-intel==2.11.0->tensorflow) (1.33.0)\n",
      "Collecting tensorboard-plugin-wit>=1.6.0\n",
      "  Downloading tensorboard_plugin_wit-1.8.1-py3-none-any.whl (781 kB)\n",
      "Requirement already satisfied: requests<3,>=2.21.0 in a:\\anaconda4\\lib\\site-packages (from tensorboard<2.12,>=2.11->tensorflow-intel==2.11.0->tensorflow) (2.27.1)\n",
      "Requirement already satisfied: markdown>=2.6.8 in a:\\anaconda4\\lib\\site-packages (from tensorboard<2.12,>=2.11->tensorflow-intel==2.11.0->tensorflow) (3.3.4)\n",
      "Collecting google-auth-oauthlib<0.5,>=0.4.1\n",
      "  Downloading google_auth_oauthlib-0.4.6-py2.py3-none-any.whl (18 kB)\n",
      "Requirement already satisfied: werkzeug>=1.0.1 in a:\\anaconda4\\lib\\site-packages (from tensorboard<2.12,>=2.11->tensorflow-intel==2.11.0->tensorflow) (2.0.3)\n",
      "Collecting tensorboard-data-server<0.7.0,>=0.6.0\n",
      "  Downloading tensorboard_data_server-0.6.1-py3-none-any.whl (2.4 kB)\n",
      "Requirement already satisfied: pyasn1-modules>=0.2.1 in a:\\anaconda4\\lib\\site-packages (from google-auth<3,>=1.6.3->tensorboard<2.12,>=2.11->tensorflow-intel==2.11.0->tensorflow) (0.2.8)\n",
      "Requirement already satisfied: rsa<5,>=3.1.4 in a:\\anaconda4\\lib\\site-packages (from google-auth<3,>=1.6.3->tensorboard<2.12,>=2.11->tensorflow-intel==2.11.0->tensorflow) (4.7.2)\n",
      "Requirement already satisfied: cachetools<5.0,>=2.0.0 in a:\\anaconda4\\lib\\site-packages (from google-auth<3,>=1.6.3->tensorboard<2.12,>=2.11->tensorflow-intel==2.11.0->tensorflow) (4.2.2)\n",
      "Collecting requests-oauthlib>=0.7.0\n",
      "  Downloading requests_oauthlib-1.3.1-py2.py3-none-any.whl (23 kB)\n",
      "Requirement already satisfied: pyasn1<0.5.0,>=0.4.6 in a:\\anaconda4\\lib\\site-packages (from pyasn1-modules>=0.2.1->google-auth<3,>=1.6.3->tensorboard<2.12,>=2.11->tensorflow-intel==2.11.0->tensorflow) (0.4.8)\n",
      "Requirement already satisfied: certifi>=2017.4.17 in a:\\anaconda4\\lib\\site-packages (from requests<3,>=2.21.0->tensorboard<2.12,>=2.11->tensorflow-intel==2.11.0->tensorflow) (2021.10.8)\n",
      "Requirement already satisfied: urllib3<1.27,>=1.21.1 in a:\\anaconda4\\lib\\site-packages (from requests<3,>=2.21.0->tensorboard<2.12,>=2.11->tensorflow-intel==2.11.0->tensorflow) (1.26.9)\n",
      "Requirement already satisfied: idna<4,>=2.5 in a:\\anaconda4\\lib\\site-packages (from requests<3,>=2.21.0->tensorboard<2.12,>=2.11->tensorflow-intel==2.11.0->tensorflow) (3.3)\n",
      "Requirement already satisfied: charset-normalizer~=2.0.0 in a:\\anaconda4\\lib\\site-packages (from requests<3,>=2.21.0->tensorboard<2.12,>=2.11->tensorflow-intel==2.11.0->tensorflow) (2.0.4)\n",
      "Collecting oauthlib>=3.0.0\n",
      "  Downloading oauthlib-3.2.2-py3-none-any.whl (151 kB)\n",
      "Requirement already satisfied: pyparsing!=3.0.5,>=2.0.2 in a:\\anaconda4\\lib\\site-packages (from packaging->tensorflow-intel==2.11.0->tensorflow) (3.0.4)\n",
      "Installing collected packages: oauthlib, requests-oauthlib, tensorboard-plugin-wit, tensorboard-data-server, google-auth-oauthlib, absl-py, termcolor, tensorflow-io-gcs-filesystem, tensorflow-estimator, tensorboard, opt-einsum, libclang, keras, google-pasta, gast, flatbuffers, astunparse, tensorflow-intel, tensorflow\n",
      "Successfully installed absl-py-1.3.0 astunparse-1.6.3 flatbuffers-22.10.26 gast-0.4.0 google-auth-oauthlib-0.4.6 google-pasta-0.2.0 keras-2.11.0 libclang-14.0.6 oauthlib-3.2.2 opt-einsum-3.3.0 requests-oauthlib-1.3.1 tensorboard-2.11.0 tensorboard-data-server-0.6.1 tensorboard-plugin-wit-1.8.1 tensorflow-2.11.0 tensorflow-estimator-2.11.0 tensorflow-intel-2.11.0 tensorflow-io-gcs-filesystem-0.28.0 termcolor-2.1.1\n"
     ]
    }
   ],
   "source": [
    "!pip install tensorflow"
   ]
  },
  {
   "cell_type": "code",
   "execution_count": null,
   "id": "074aa574",
   "metadata": {
    "id": "074aa574",
    "outputId": "ac1fbf2b-4aca-49f6-f945-d40805a797c0",
    "pycharm": {
     "name": "#%%\n"
    }
   },
   "outputs": [
    {
     "name": "stdout",
     "output_type": "stream",
     "text": [
      "Looking in indexes: https://pypi.org/simple, https://download.pytorch.org/whl/cu113\n",
      "Collecting torch\n",
      "  Downloading torch-1.13.0-cp39-cp39-win_amd64.whl (167.2 MB)\n",
      "Collecting torchvision\n",
      "  Downloading torchvision-0.14.0-cp39-cp39-win_amd64.whl (1.1 MB)\n",
      "Collecting torchaudio\n",
      "  Downloading torchaudio-0.13.0-cp39-cp39-win_amd64.whl (2.1 MB)\n",
      "Requirement already satisfied: typing-extensions in a:\\anaconda4\\lib\\site-packages (from torch) (4.1.1)\n",
      "Requirement already satisfied: numpy in a:\\anaconda4\\lib\\site-packages (from torchvision) (1.21.5)\n",
      "Requirement already satisfied: pillow!=8.3.*,>=5.3.0 in a:\\anaconda4\\lib\\site-packages (from torchvision) (9.0.1)\n",
      "Requirement already satisfied: requests in a:\\anaconda4\\lib\\site-packages (from torchvision) (2.27.1)\n",
      "Requirement already satisfied: idna<4,>=2.5 in a:\\anaconda4\\lib\\site-packages (from requests->torchvision) (3.3)\n",
      "Requirement already satisfied: charset-normalizer~=2.0.0 in a:\\anaconda4\\lib\\site-packages (from requests->torchvision) (2.0.4)\n",
      "Requirement already satisfied: certifi>=2017.4.17 in a:\\anaconda4\\lib\\site-packages (from requests->torchvision) (2021.10.8)\n",
      "Requirement already satisfied: urllib3<1.27,>=1.21.1 in a:\\anaconda4\\lib\\site-packages (from requests->torchvision) (1.26.9)\n",
      "Installing collected packages: torch, torchvision, torchaudio\n",
      "Successfully installed torch-1.13.0 torchaudio-0.13.0 torchvision-0.14.0\n"
     ]
    }
   ],
   "source": [
    "!pip install torch torchvision torchaudio --extra-index-url https://download.pytorch.org/whl/cu113"
   ]
  },
  {
   "cell_type": "code",
   "execution_count": 4,
   "id": "9c8db2a3",
   "metadata": {
    "id": "9c8db2a3",
    "pycharm": {
     "name": "#%%\n"
    }
   },
   "outputs": [],
   "source": [
    "import torch"
   ]
  },
  {
   "cell_type": "code",
   "execution_count": null,
   "id": "5960e836",
   "metadata": {
    "id": "5960e836",
    "outputId": "fa8ad8c7-2bfd-47ea-e5f2-f04b7bafa5ce",
    "pycharm": {
     "name": "#%%\n"
    }
   },
   "outputs": [
    {
     "name": "stdout",
     "output_type": "stream",
     "text": [
      "tensor([1., 2.])\n",
      "torch.Size([2])\n"
     ]
    }
   ],
   "source": [
    "a = torch.FloatTensor([1, 2])\n",
    "print(a)\n",
    "print(a.shape)"
   ]
  },
  {
   "cell_type": "code",
   "execution_count": null,
   "id": "f1a3eece",
   "metadata": {
    "id": "f1a3eece",
    "outputId": "c39c9315-845d-4eb3-abaf-6826484a269f",
    "pycharm": {
     "name": "#%%\n"
    }
   },
   "outputs": [
    {
     "name": "stdout",
     "output_type": "stream",
     "text": [
      "tensor([[1., 2., 3.],\n",
      "        [4., 5., 6.]])\n",
      "torch.Size([2, 3])\n"
     ]
    }
   ],
   "source": [
    "b = torch.FloatTensor([[1,2,3], [4,5,6]])\n",
    "print(b)\n",
    "print(b.shape)"
   ]
  },
  {
   "cell_type": "code",
   "execution_count": null,
   "id": "aee2a150",
   "metadata": {
    "id": "aee2a150",
    "outputId": "94982337-acbe-4a09-d142-8504da2e72a4",
    "pycharm": {
     "name": "#%%\n"
    }
   },
   "outputs": [
    {
     "data": {
      "text/plain": [
       "tensor([[[0., 0., 0., 0.],\n",
       "         [0., 0., 0., 0.],\n",
       "         [0., 0., 0., 0.]],\n",
       "\n",
       "        [[0., 0., 0., 0.],\n",
       "         [0., 0., 0., 0.],\n",
       "         [0., 0., 0., 0.]]])"
      ]
     },
     "execution_count": 8,
     "metadata": {},
     "output_type": "execute_result"
    }
   ],
   "source": [
    "x = torch.FloatTensor(2,3,4)\n",
    "x"
   ]
  },
  {
   "cell_type": "code",
   "execution_count": null,
   "id": "0e5961bf",
   "metadata": {
    "id": "0e5961bf",
    "outputId": "1ce87ea7-1ed6-4842-bd50-01cfc7ae1be9",
    "pycharm": {
     "name": "#%%\n"
    }
   },
   "outputs": [
    {
     "data": {
      "text/plain": [
       "torch.Size([45, 57, 14, 2])"
      ]
     },
     "execution_count": 9,
     "metadata": {},
     "output_type": "execute_result"
    }
   ],
   "source": [
    "x = torch.IntTensor(45, 57, 14, 2)\n",
    "x.shape"
   ]
  },
  {
   "cell_type": "code",
   "execution_count": null,
   "id": "fdc2f2a1",
   "metadata": {
    "id": "fdc2f2a1",
    "outputId": "56a8d6ea-f746-4bf1-fbec-52326fbc4086",
    "pycharm": {
     "name": "#%%\n"
    }
   },
   "outputs": [
    {
     "name": "stdout",
     "output_type": "stream",
     "text": [
      "tensor([[[0, 0, 0, 0],\n",
      "         [0, 0, 0, 0]],\n",
      "\n",
      "        [[0, 0, 0, 0],\n",
      "         [0, 0, 0, 0]],\n",
      "\n",
      "        [[0, 0, 0, 0],\n",
      "         [0, 0, 0, 0]]], dtype=torch.int32)\n",
      "tensor([[[0, 0, 0, 0],\n",
      "         [0, 0, 0, 0]],\n",
      "\n",
      "        [[0, 0, 0, 0],\n",
      "         [0, 0, 0, 0]],\n",
      "\n",
      "        [[0, 0, 0, 0],\n",
      "         [0, 0, 0, 0]]], dtype=torch.int32)\n"
     ]
    }
   ],
   "source": [
    "x = torch.IntTensor(3, 2, 4)\n",
    "print(x)\n",
    "x = torch.IntTensor(3, 2, 4).zero_()\n",
    "print(x)"
   ]
  },
  {
   "cell_type": "code",
   "execution_count": null,
   "id": "dd13a982",
   "metadata": {
    "id": "dd13a982",
    "outputId": "9038ff97-2a7d-4fb3-a7c8-d3face0e4611",
    "pycharm": {
     "name": "#%%\n"
    }
   },
   "outputs": [
    {
     "data": {
      "text/plain": [
       "tensor([[1., 2.],\n",
       "        [3., 4.],\n",
       "        [5., 6.]])"
      ]
     },
     "execution_count": 11,
     "metadata": {},
     "output_type": "execute_result"
    }
   ],
   "source": [
    "b.view(3, 2)"
   ]
  },
  {
   "cell_type": "code",
   "execution_count": null,
   "id": "939c9240",
   "metadata": {
    "id": "939c9240",
    "outputId": "e0781405-db52-4c18-e866-b6463d71240f",
    "pycharm": {
     "name": "#%%\n"
    }
   },
   "outputs": [
    {
     "data": {
      "text/plain": [
       "tensor([[1., 2., 3.],\n",
       "        [4., 5., 6.]])"
      ]
     },
     "execution_count": 12,
     "metadata": {},
     "output_type": "execute_result"
    }
   ],
   "source": [
    "b"
   ]
  },
  {
   "cell_type": "code",
   "execution_count": null,
   "id": "137185d0",
   "metadata": {
    "id": "137185d0",
    "outputId": "69bf7c20-2256-4dae-ea7d-f6ffdf1dc14c",
    "pycharm": {
     "name": "#%%\n"
    }
   },
   "outputs": [
    {
     "data": {
      "text/plain": [
       "tensor([1., 2., 3., 4., 5., 6.])"
      ]
     },
     "execution_count": 13,
     "metadata": {},
     "output_type": "execute_result"
    }
   ],
   "source": [
    "b.view(-1)"
   ]
  },
  {
   "cell_type": "code",
   "execution_count": null,
   "id": "ac9eef98",
   "metadata": {
    "id": "ac9eef98",
    "pycharm": {
     "name": "#%%\n"
    }
   },
   "outputs": [],
   "source": [
    "a = torch.FloatTensor([1.5, 3.2, -7])"
   ]
  },
  {
   "cell_type": "code",
   "execution_count": null,
   "id": "1cd5d434",
   "metadata": {
    "id": "1cd5d434",
    "outputId": "505ff754-00ca-45d4-bb8a-7f8a1f92a0ba",
    "pycharm": {
     "name": "#%%\n"
    }
   },
   "outputs": [
    {
     "data": {
      "text/plain": [
       "tensor([ 1,  3, -7], dtype=torch.int32)"
      ]
     },
     "execution_count": 15,
     "metadata": {},
     "output_type": "execute_result"
    }
   ],
   "source": [
    "a.type_as(torch.IntTensor())"
   ]
  },
  {
   "cell_type": "code",
   "execution_count": null,
   "id": "106e3865",
   "metadata": {
    "id": "106e3865",
    "outputId": "af033eb2-bb79-4315-fed9-309fc74072c8",
    "pycharm": {
     "name": "#%%\n"
    }
   },
   "outputs": [
    {
     "data": {
      "text/plain": [
       "tensor([  1,   3, 249], dtype=torch.uint8)"
      ]
     },
     "execution_count": 16,
     "metadata": {},
     "output_type": "execute_result"
    }
   ],
   "source": [
    "a.type_as(torch.ByteTensor())"
   ]
  },
  {
   "cell_type": "code",
   "execution_count": null,
   "id": "e7ebde16",
   "metadata": {
    "id": "e7ebde16",
    "outputId": "d61c490b-35f2-460e-a6bf-030651428518",
    "pycharm": {
     "name": "#%%\n"
    }
   },
   "outputs": [
    {
     "data": {
      "text/plain": [
       "tensor([ 1.5000,  3.2000, -7.0000])"
      ]
     },
     "execution_count": 17,
     "metadata": {},
     "output_type": "execute_result"
    }
   ],
   "source": [
    "a"
   ]
  },
  {
   "cell_type": "code",
   "execution_count": null,
   "id": "eb340cc0",
   "metadata": {
    "id": "eb340cc0",
    "outputId": "d5782e91-e13d-47b2-d79a-a5be5bac3d41",
    "pycharm": {
     "name": "#%%\n"
    }
   },
   "outputs": [
    {
     "data": {
      "text/plain": [
       "tensor([[10.,  2.,  5.],\n",
       "        [ 5., 13., 54.],\n",
       "        [ 2.,  0.,  6.]])"
      ]
     },
     "execution_count": 18,
     "metadata": {},
     "output_type": "execute_result"
    }
   ],
   "source": [
    "a = torch.FloatTensor([[10, 2, 5], [5, 13, 54], [2, 0, 6]])\n",
    "a"
   ]
  },
  {
   "cell_type": "code",
   "execution_count": null,
   "id": "6c81cd37",
   "metadata": {
    "id": "6c81cd37",
    "outputId": "5c0242b2-e497-401f-e126-a091df5bb565",
    "pycharm": {
     "name": "#%%\n"
    }
   },
   "outputs": [
    {
     "data": {
      "text/plain": [
       "tensor([[10.,  2.],\n",
       "        [ 5., 13.]])"
      ]
     },
     "execution_count": 19,
     "metadata": {},
     "output_type": "execute_result"
    }
   ],
   "source": [
    "a[0:2, 0:2]"
   ]
  },
  {
   "cell_type": "code",
   "execution_count": null,
   "id": "3970bf22",
   "metadata": {
    "id": "3970bf22",
    "pycharm": {
     "name": "#%%\n"
    }
   },
   "outputs": [],
   "source": [
    "a = torch.FloatTensor([[1, 2, 3], [90, 80, 70], [400, 50, 64]])\n",
    "b = torch.FloatTensor([[-1, -2, -3], [-1, -2, -60], [10, -20, 3]])"
   ]
  },
  {
   "cell_type": "code",
   "execution_count": null,
   "id": "523c6012",
   "metadata": {
    "id": "523c6012",
    "outputId": "1c867f84-b129-45df-9fe1-1a57fa557a41",
    "pycharm": {
     "name": "#%%\n"
    }
   },
   "outputs": [
    {
     "data": {
      "text/plain": [
       "tensor([[  0.,   0.,   0.],\n",
       "        [ 89.,  78.,  10.],\n",
       "        [410.,  30.,  67.]])"
      ]
     },
     "execution_count": 21,
     "metadata": {},
     "output_type": "execute_result"
    }
   ],
   "source": [
    "a + b"
   ]
  },
  {
   "cell_type": "code",
   "execution_count": null,
   "id": "27bc9d01",
   "metadata": {
    "id": "27bc9d01",
    "outputId": "47ee7354-dadd-4c48-dd23-94c19cd52b93",
    "pycharm": {
     "name": "#%%\n"
    }
   },
   "outputs": [
    {
     "data": {
      "text/plain": [
       "tensor([[  0.,   0.,   0.],\n",
       "        [ 89.,  78.,  10.],\n",
       "        [410.,  30.,  67.]])"
      ]
     },
     "execution_count": 22,
     "metadata": {},
     "output_type": "execute_result"
    }
   ],
   "source": [
    "a.add(b)"
   ]
  },
  {
   "cell_type": "code",
   "execution_count": null,
   "id": "b0b10900",
   "metadata": {
    "id": "b0b10900",
    "outputId": "cca5732a-dd63-4f93-bd16-c4d6fbcefbbe",
    "pycharm": {
     "name": "#%%\n"
    }
   },
   "outputs": [
    {
     "data": {
      "text/plain": [
       "tensor([[  -1.,   -2.,   -3.],\n",
       "        [ -90.,  -80.,  -70.],\n",
       "        [-400.,  -50.,  -64.]])"
      ]
     },
     "execution_count": 23,
     "metadata": {},
     "output_type": "execute_result"
    }
   ],
   "source": [
    "b = -a\n",
    "b"
   ]
  },
  {
   "cell_type": "code",
   "execution_count": null,
   "id": "fd2dd16e",
   "metadata": {
    "id": "fd2dd16e",
    "outputId": "ba586c22-1d46-4df2-dfa0-25a56e270168",
    "pycharm": {
     "name": "#%%\n"
    }
   },
   "outputs": [
    {
     "data": {
      "text/plain": [
       "tensor([[  2.,   4.,   6.],\n",
       "        [180., 160., 140.],\n",
       "        [800., 100., 128.]])"
      ]
     },
     "execution_count": 24,
     "metadata": {},
     "output_type": "execute_result"
    }
   ],
   "source": [
    "a - b"
   ]
  },
  {
   "cell_type": "code",
   "execution_count": null,
   "id": "7f114378",
   "metadata": {
    "id": "7f114378",
    "outputId": "13af001b-f02d-41e1-b015-23fc1a68ad35",
    "pycharm": {
     "name": "#%%\n"
    }
   },
   "outputs": [
    {
     "data": {
      "text/plain": [
       "tensor([[  2.,   4.,   6.],\n",
       "        [180., 160., 140.],\n",
       "        [800., 100., 128.]])"
      ]
     },
     "execution_count": 25,
     "metadata": {},
     "output_type": "execute_result"
    }
   ],
   "source": [
    "a.sub(b)"
   ]
  },
  {
   "cell_type": "code",
   "execution_count": null,
   "id": "12cde580",
   "metadata": {
    "id": "12cde580",
    "outputId": "2ddddce4-21a6-4b98-db64-258775f26b71",
    "pycharm": {
     "name": "#%%\n"
    }
   },
   "outputs": [
    {
     "data": {
      "text/plain": [
       "tensor([[-1.0000e+00, -4.0000e+00, -9.0000e+00],\n",
       "        [-8.1000e+03, -6.4000e+03, -4.9000e+03],\n",
       "        [-1.6000e+05, -2.5000e+03, -4.0960e+03]])"
      ]
     },
     "execution_count": 26,
     "metadata": {},
     "output_type": "execute_result"
    }
   ],
   "source": [
    "a * b"
   ]
  },
  {
   "cell_type": "code",
   "execution_count": null,
   "id": "dfd82013",
   "metadata": {
    "id": "dfd82013",
    "outputId": "45e3fa6f-7d15-4fe4-dadd-2b6c60b41dca",
    "pycharm": {
     "name": "#%%\n"
    }
   },
   "outputs": [
    {
     "data": {
      "text/plain": [
       "tensor([[-1.0000e+00, -4.0000e+00, -9.0000e+00],\n",
       "        [-8.1000e+03, -6.4000e+03, -4.9000e+03],\n",
       "        [-1.6000e+05, -2.5000e+03, -4.0960e+03]])"
      ]
     },
     "execution_count": 27,
     "metadata": {},
     "output_type": "execute_result"
    }
   ],
   "source": [
    "a.mul(b)"
   ]
  },
  {
   "cell_type": "code",
   "execution_count": null,
   "id": "5f32feab",
   "metadata": {
    "id": "5f32feab",
    "outputId": "d7e95538-9fea-4b3c-fa2c-516e3c93531d",
    "pycharm": {
     "name": "#%%\n"
    }
   },
   "outputs": [
    {
     "data": {
      "text/plain": [
       "tensor([[-1., -1., -1.],\n",
       "        [-1., -1., -1.],\n",
       "        [-1., -1., -1.]])"
      ]
     },
     "execution_count": 28,
     "metadata": {},
     "output_type": "execute_result"
    }
   ],
   "source": [
    "a / b"
   ]
  },
  {
   "cell_type": "code",
   "execution_count": null,
   "id": "e83a8fe1",
   "metadata": {
    "id": "e83a8fe1",
    "outputId": "a58955aa-3286-435f-8d16-09526ca4cd68",
    "pycharm": {
     "name": "#%%\n"
    }
   },
   "outputs": [
    {
     "data": {
      "text/plain": [
       "tensor([[-1., -1., -1.],\n",
       "        [-1., -1., -1.],\n",
       "        [-1., -1., -1.]])"
      ]
     },
     "execution_count": 29,
     "metadata": {},
     "output_type": "execute_result"
    }
   ],
   "source": [
    "a.div(b)"
   ]
  },
  {
   "cell_type": "code",
   "execution_count": null,
   "id": "71218ec8",
   "metadata": {
    "id": "71218ec8",
    "outputId": "bfa475bd-5d84-41d7-b27a-2215fe03685a",
    "pycharm": {
     "name": "#%%\n"
    }
   },
   "outputs": [
    {
     "data": {
      "text/plain": [
       "tensor([[False, False, False],\n",
       "        [False, False, False],\n",
       "        [False, False, False]])"
      ]
     },
     "execution_count": 30,
     "metadata": {},
     "output_type": "execute_result"
    }
   ],
   "source": [
    "a == b"
   ]
  },
  {
   "cell_type": "code",
   "execution_count": null,
   "id": "554ba127",
   "metadata": {
    "id": "554ba127",
    "outputId": "fc530c14-0f0d-43cc-d5b3-1c66a3100638",
    "pycharm": {
     "name": "#%%\n"
    }
   },
   "outputs": [
    {
     "data": {
      "text/plain": [
       "tensor([[True, True, True],\n",
       "        [True, True, True],\n",
       "        [True, True, True]])"
      ]
     },
     "execution_count": 31,
     "metadata": {},
     "output_type": "execute_result"
    }
   ],
   "source": [
    "a != b"
   ]
  },
  {
   "cell_type": "code",
   "execution_count": null,
   "id": "9e73aee1",
   "metadata": {
    "id": "9e73aee1",
    "outputId": "5614df4b-2a99-4dd2-f6c6-47fff234b72e",
    "pycharm": {
     "name": "#%%\n"
    }
   },
   "outputs": [
    {
     "data": {
      "text/plain": [
       "tensor([[False, False, False],\n",
       "        [False, False, False],\n",
       "        [False, False, False]])"
      ]
     },
     "execution_count": 32,
     "metadata": {},
     "output_type": "execute_result"
    }
   ],
   "source": [
    "a < b"
   ]
  },
  {
   "cell_type": "code",
   "execution_count": null,
   "id": "79ac1623",
   "metadata": {
    "id": "79ac1623",
    "outputId": "22883e20-f417-4a7a-835d-bb0b40667e10",
    "pycharm": {
     "name": "#%%\n"
    }
   },
   "outputs": [
    {
     "data": {
      "text/plain": [
       "tensor([[True, True, True],\n",
       "        [True, True, True],\n",
       "        [True, True, True]])"
      ]
     },
     "execution_count": 33,
     "metadata": {},
     "output_type": "execute_result"
    }
   ],
   "source": [
    "a > b"
   ]
  },
  {
   "cell_type": "code",
   "execution_count": null,
   "id": "7ba3afe6",
   "metadata": {
    "id": "7ba3afe6",
    "outputId": "badf5aec-205d-4e58-a1a9-12621feb2b77",
    "pycharm": {
     "name": "#%%\n"
    }
   },
   "outputs": [
    {
     "data": {
      "text/plain": [
       "tensor([  1.,   2.,   3.,  90.,  80.,  70., 400.,  50.,  64.])"
      ]
     },
     "execution_count": 34,
     "metadata": {},
     "output_type": "execute_result"
    }
   ],
   "source": [
    "a[a > b]"
   ]
  },
  {
   "cell_type": "code",
   "execution_count": null,
   "id": "601f85d1",
   "metadata": {
    "id": "601f85d1",
    "outputId": "5f7593b2-d0b8-4563-fb65-7e55798ef1ff",
    "pycharm": {
     "name": "#%%\n"
    }
   },
   "outputs": [
    {
     "data": {
      "text/plain": [
       "tensor([[ 0.8415,  0.9093,  0.1411],\n",
       "        [ 0.8940, -0.9939,  0.7739],\n",
       "        [-0.8509, -0.2624,  0.9200]])"
      ]
     },
     "execution_count": 35,
     "metadata": {},
     "output_type": "execute_result"
    }
   ],
   "source": [
    "a.sin()"
   ]
  },
  {
   "cell_type": "code",
   "execution_count": null,
   "id": "0e138451",
   "metadata": {
    "id": "0e138451",
    "outputId": "3e9edb70-0c6a-43c3-eeaf-ed00ca4bad9c",
    "pycharm": {
     "name": "#%%\n"
    }
   },
   "outputs": [
    {
     "data": {
      "text/plain": [
       "tensor([[2.7183e+00, 7.3891e+00, 2.0086e+01],\n",
       "        [       inf, 5.5406e+34, 2.5154e+30],\n",
       "        [       inf, 5.1847e+21, 6.2351e+27]])"
      ]
     },
     "execution_count": 36,
     "metadata": {},
     "output_type": "execute_result"
    }
   ],
   "source": [
    "a.exp()"
   ]
  },
  {
   "cell_type": "code",
   "execution_count": null,
   "id": "a78ca943",
   "metadata": {
    "id": "a78ca943",
    "outputId": "a3a44413-36d9-429d-eed3-211c9ec7d78a",
    "pycharm": {
     "name": "#%%\n"
    }
   },
   "outputs": [
    {
     "data": {
      "text/plain": [
       "tensor(84.4444)"
      ]
     },
     "execution_count": 37,
     "metadata": {},
     "output_type": "execute_result"
    }
   ],
   "source": [
    "a.mean()"
   ]
  },
  {
   "cell_type": "code",
   "execution_count": null,
   "id": "c528418b",
   "metadata": {
    "id": "c528418b",
    "outputId": "77523a65-96f6-44b9-86d9-a30f044e8f37",
    "pycharm": {
     "name": "#%%\n"
    }
   },
   "outputs": [
    {
     "data": {
      "text/plain": [
       "torch.return_types.max(\n",
       "values=tensor([400.,  80.,  70.]),\n",
       "indices=tensor([2, 1, 1]))"
      ]
     },
     "execution_count": 38,
     "metadata": {},
     "output_type": "execute_result"
    }
   ],
   "source": [
    "a.max(0)"
   ]
  },
  {
   "cell_type": "code",
   "execution_count": null,
   "id": "b04f77d5",
   "metadata": {
    "id": "b04f77d5",
    "outputId": "fb38b663-3978-46ef-baf0-6b04a302de26",
    "pycharm": {
     "name": "#%%\n"
    }
   },
   "outputs": [
    {
     "data": {
      "text/plain": [
       "tensor([[  1.,  90., 400.],\n",
       "        [  2.,  80.,  50.],\n",
       "        [  3.,  70.,  64.]])"
      ]
     },
     "execution_count": 39,
     "metadata": {},
     "output_type": "execute_result"
    }
   ],
   "source": [
    "a.t()"
   ]
  },
  {
   "cell_type": "code",
   "execution_count": null,
   "id": "6a83055e",
   "metadata": {
    "id": "6a83055e",
    "pycharm": {
     "name": "#%%\n"
    }
   },
   "outputs": [],
   "source": [
    "a = torch.FloatTensor([1, 2, 3, 4, 8, 61])\n",
    "b = torch.FloatTensor([-1, -22, -4, -6, -85, -10])"
   ]
  },
  {
   "cell_type": "code",
   "execution_count": null,
   "id": "fcc76bc4",
   "metadata": {
    "id": "fcc76bc4",
    "outputId": "8253bf39-479f-4bb2-9a19-c22c9ce8c8a2",
    "pycharm": {
     "name": "#%%\n"
    }
   },
   "outputs": [
    {
     "data": {
      "text/plain": [
       "tensor(-1371.)"
      ]
     },
     "execution_count": 42,
     "metadata": {},
     "output_type": "execute_result"
    }
   ],
   "source": [
    "a.dot(b)"
   ]
  },
  {
   "cell_type": "code",
   "execution_count": null,
   "id": "d422d1fa",
   "metadata": {
    "id": "d422d1fa",
    "outputId": "67cd6e45-6405-4500-de23-d2ffd699fcb8",
    "pycharm": {
     "name": "#%%\n"
    }
   },
   "outputs": [
    {
     "data": {
      "text/plain": [
       "tensor(-1371.)"
      ]
     },
     "execution_count": 43,
     "metadata": {},
     "output_type": "execute_result"
    }
   ],
   "source": [
    "a @ b"
   ]
  },
  {
   "cell_type": "code",
   "execution_count": null,
   "id": "34f2a33a",
   "metadata": {
    "id": "34f2a33a",
    "pycharm": {
     "name": "#%%\n"
    }
   },
   "outputs": [],
   "source": [
    "a = torch.FloatTensor([[1, 2, 3], [90, 80, 70], [400, 50, 64]])\n",
    "b = torch.FloatTensor([[-1, -2, -3], [-1, -2, -60], [10, -20, 3]])"
   ]
  },
  {
   "cell_type": "code",
   "execution_count": null,
   "id": "a7f90354",
   "metadata": {
    "id": "a7f90354",
    "outputId": "ae15d70d-fdd7-4308-e521-17c572f56b45",
    "pycharm": {
     "name": "#%%\n"
    }
   },
   "outputs": [
    {
     "data": {
      "text/plain": [
       "tensor([[   27.,   -66.,  -114.],\n",
       "        [  530., -1740., -4860.],\n",
       "        [  190., -2180., -4008.]])"
      ]
     },
     "execution_count": 46,
     "metadata": {},
     "output_type": "execute_result"
    }
   ],
   "source": [
    "a.mm(b)"
   ]
  },
  {
   "cell_type": "code",
   "execution_count": null,
   "id": "71ceee4a",
   "metadata": {
    "id": "71ceee4a",
    "outputId": "48c09b7b-5a17-4287-bebb-9026d606340b",
    "pycharm": {
     "name": "#%%\n"
    }
   },
   "outputs": [
    {
     "data": {
      "text/plain": [
       "tensor([[   27.,   -66.,  -114.],\n",
       "        [  530., -1740., -4860.],\n",
       "        [  190., -2180., -4008.]])"
      ]
     },
     "execution_count": 47,
     "metadata": {},
     "output_type": "execute_result"
    }
   ],
   "source": [
    "a @ b"
   ]
  },
  {
   "cell_type": "code",
   "execution_count": null,
   "id": "449ef3d7",
   "metadata": {
    "id": "449ef3d7",
    "outputId": "36400f76-2a57-4c41-a51b-d97fa4d5dec1",
    "pycharm": {
     "name": "#%%\n"
    }
   },
   "outputs": [
    {
     "name": "stdout",
     "output_type": "stream",
     "text": [
      "torch.Size([3, 3]) torch.Size([3, 3])\n"
     ]
    }
   ],
   "source": [
    "print(a.shape, b.shape)"
   ]
  },
  {
   "cell_type": "code",
   "execution_count": 3,
   "id": "4704b5e0",
   "metadata": {
    "colab": {
     "base_uri": "https://localhost:8080/"
    },
    "id": "4704b5e0",
    "outputId": "42953e81-2b92-43d5-9ace-d9e539f72435",
    "pycharm": {
     "name": "#%%\n"
    }
   },
   "outputs": [
    {
     "data": {
      "text/plain": [
       "array([[0.29351994, 0.62870479, 0.031392  ],\n",
       "       [0.09454906, 0.77301406, 0.78800806],\n",
       "       [0.53059679, 0.68140923, 0.31623194]])"
      ]
     },
     "execution_count": 3,
     "metadata": {},
     "output_type": "execute_result"
    }
   ],
   "source": [
    "import numpy as np\n",
    "\n",
    "a = np.random.rand(3, 3)\n",
    "a"
   ]
  },
  {
   "cell_type": "code",
   "execution_count": null,
   "id": "42d3b0e1",
   "metadata": {
    "id": "42d3b0e1",
    "outputId": "e4fc0faa-3360-4133-9f73-b0136fcc36af",
    "pycharm": {
     "name": "#%%\n"
    }
   },
   "outputs": [
    {
     "data": {
      "text/plain": [
       "tensor([[0.2468, 0.8458, 0.8742],\n",
       "        [0.9518, 0.0536, 0.8063],\n",
       "        [0.4110, 0.0933, 0.9177]], dtype=torch.float64)"
      ]
     },
     "execution_count": 51,
     "metadata": {},
     "output_type": "execute_result"
    }
   ],
   "source": [
    "b = torch.from_numpy(a)\n",
    "b"
   ]
  },
  {
   "cell_type": "code",
   "execution_count": null,
   "id": "9508f7e0",
   "metadata": {
    "id": "9508f7e0",
    "outputId": "662109f9-abbe-41ad-d460-44f48afe57d9",
    "pycharm": {
     "name": "#%%\n"
    }
   },
   "outputs": [
    {
     "data": {
      "text/plain": [
       "tensor([[0., 0., 0.],\n",
       "        [0., 0., 0.],\n",
       "        [0., 0., 0.]], dtype=torch.float64)"
      ]
     },
     "execution_count": 52,
     "metadata": {},
     "output_type": "execute_result"
    }
   ],
   "source": [
    "b -= b\n",
    "b"
   ]
  },
  {
   "cell_type": "code",
   "execution_count": null,
   "id": "4e8d12d3",
   "metadata": {
    "id": "4e8d12d3",
    "outputId": "3d790045-c4b0-43f0-e504-db859b512b69",
    "pycharm": {
     "name": "#%%\n"
    }
   },
   "outputs": [
    {
     "data": {
      "text/plain": [
       "array([[[0., 0., 0., 0.],\n",
       "        [0., 0., 0., 0.],\n",
       "        [0., 0., 0., 0.]],\n",
       "\n",
       "       [[0., 0., 0., 0.],\n",
       "        [0., 0., 0., 0.],\n",
       "        [0., 0., 0., 0.]]], dtype=float32)"
      ]
     },
     "execution_count": 55,
     "metadata": {},
     "output_type": "execute_result"
    }
   ],
   "source": [
    "a = torch.FloatTensor(2, 3, 4)\n",
    "x = a.numpy()\n",
    "x"
   ]
  },
  {
   "cell_type": "code",
   "execution_count": null,
   "id": "f94cb7eb",
   "metadata": {
    "id": "f94cb7eb",
    "outputId": "7fba423f-ad27-4cb5-91b3-d2ac01121963",
    "pycharm": {
     "name": "#%%\n"
    }
   },
   "outputs": [
    {
     "data": {
      "text/plain": [
       "numpy.ndarray"
      ]
     },
     "execution_count": 56,
     "metadata": {},
     "output_type": "execute_result"
    }
   ],
   "source": [
    "type(x)"
   ]
  },
  {
   "cell_type": "code",
   "execution_count": null,
   "id": "826d795f",
   "metadata": {
    "id": "826d795f",
    "outputId": "9830d78a-0c91-4f98-c9a9-4ebb4ebacd96",
    "pycharm": {
     "name": "#%%\n"
    }
   },
   "outputs": [
    {
     "name": "stdout",
     "output_type": "stream",
     "text": [
      "result: tensor([[1.0000],\n",
      "        [0.9985],\n",
      "        [0.0474]])\n"
     ]
    }
   ],
   "source": [
    "def forward_pass(X, w):\n",
    "    return torch.sigmoid(X @ w)\n",
    "\n",
    "X = torch.FloatTensor([[-5, 5], [2, 3], [1, -1]])\n",
    "w = torch.FloatTensor([[-0.5], [2.5]])\n",
    "result = forward_pass(X, w)\n",
    "print('result: {}'.format(result))"
   ]
  },
  {
   "cell_type": "code",
   "execution_count": 5,
   "id": "eb00d893",
   "metadata": {
    "colab": {
     "base_uri": "https://localhost:8080/"
    },
    "id": "eb00d893",
    "outputId": "9721219d-a0d0-4acf-e417-63775c2471b5",
    "pycharm": {
     "name": "#%%\n"
    }
   },
   "outputs": [
    {
     "data": {
      "text/plain": [
       "True"
      ]
     },
     "execution_count": 5,
     "metadata": {},
     "output_type": "execute_result"
    }
   ],
   "source": [
    "torch.cuda.is_available()"
   ]
  },
  {
   "cell_type": "code",
   "execution_count": 6,
   "id": "d05201e7",
   "metadata": {
    "colab": {
     "base_uri": "https://localhost:8080/"
    },
    "id": "d05201e7",
    "outputId": "e5994739-af8a-4e23-8199-c1471e2371af",
    "pycharm": {
     "name": "#%%\n"
    }
   },
   "outputs": [
    {
     "data": {
      "text/plain": [
       "tensor([0.], device='cuda:0')"
      ]
     },
     "execution_count": 6,
     "metadata": {},
     "output_type": "execute_result"
    }
   ],
   "source": [
    "torch.zeros(1).cuda()"
   ]
  },
  {
   "cell_type": "code",
   "execution_count": 7,
   "id": "qVYyJ5WSBixy",
   "metadata": {
    "colab": {
     "base_uri": "https://localhost:8080/"
    },
    "id": "qVYyJ5WSBixy",
    "outputId": "6cf8832d-372e-4c94-f251-7c9be307eca7",
    "pycharm": {
     "name": "#%%\n"
    }
   },
   "outputs": [
    {
     "data": {
      "text/plain": [
       "tensor([[0.0556, 0.3632, 0.5479,  ..., 0.2267, 0.7168, 0.6343],\n",
       "        [0.3974, 0.9921, 0.7282,  ..., 0.7678, 0.8557, 0.3698],\n",
       "        [0.1073, 0.3701, 0.9450,  ..., 0.5871, 0.3570, 0.0319],\n",
       "        ...,\n",
       "        [0.3261, 0.5069, 0.5972,  ..., 0.8232, 0.4699, 0.0738],\n",
       "        [0.3334, 0.6289, 0.3252,  ..., 0.5798, 0.5800, 0.8847],\n",
       "        [0.4062, 0.3683, 0.4835,  ..., 0.8658, 0.0502, 0.1143]])"
      ]
     },
     "execution_count": 7,
     "metadata": {},
     "output_type": "execute_result"
    }
   ],
   "source": [
    "x = torch.FloatTensor(1024, 1024).uniform_()\n",
    "x"
   ]
  },
  {
   "cell_type": "code",
   "execution_count": 8,
   "id": "p6iqj_nTBlYk",
   "metadata": {
    "colab": {
     "base_uri": "https://localhost:8080/"
    },
    "id": "p6iqj_nTBlYk",
    "outputId": "6f47aa15-d25a-4f65-a4bb-cc3713aea318",
    "pycharm": {
     "name": "#%%\n"
    }
   },
   "outputs": [
    {
     "data": {
      "text/plain": [
       "True"
      ]
     },
     "execution_count": 8,
     "metadata": {},
     "output_type": "execute_result"
    }
   ],
   "source": [
    "x = x.cuda()\n",
    "x.is_cuda"
   ]
  },
  {
   "cell_type": "code",
   "execution_count": 9,
   "id": "br7kqDwSBqBh",
   "metadata": {
    "colab": {
     "base_uri": "https://localhost:8080/"
    },
    "id": "br7kqDwSBqBh",
    "outputId": "2fa3d7c4-aae6-4f3d-c8bd-896dfb1a8976",
    "pycharm": {
     "name": "#%%\n"
    }
   },
   "outputs": [
    {
     "data": {
      "text/plain": [
       "tensor([[0.0556, 0.3632, 0.5479,  ..., 0.2267, 0.7168, 0.6343],\n",
       "        [0.3974, 0.9921, 0.7282,  ..., 0.7678, 0.8557, 0.3698],\n",
       "        [0.1073, 0.3701, 0.9450,  ..., 0.5871, 0.3570, 0.0319],\n",
       "        ...,\n",
       "        [0.3261, 0.5069, 0.5972,  ..., 0.8232, 0.4699, 0.0738],\n",
       "        [0.3334, 0.6289, 0.3252,  ..., 0.5798, 0.5800, 0.8847],\n",
       "        [0.4062, 0.3683, 0.4835,  ..., 0.8658, 0.0502, 0.1143]],\n",
       "       device='cuda:0')"
      ]
     },
     "execution_count": 9,
     "metadata": {},
     "output_type": "execute_result"
    }
   ],
   "source": [
    "x"
   ]
  },
  {
   "cell_type": "code",
   "execution_count": 10,
   "id": "ovlK3h_NBsBN",
   "metadata": {
    "id": "ovlK3h_NBsBN",
    "pycharm": {
     "name": "#%%\n"
    }
   },
   "outputs": [],
   "source": [
    "a = torch.FloatTensor(10000, 10000).uniform_()\n",
    "b = torch.FloatTensor(10000, 10000).uniform_()\n",
    "c = a.cuda().mul(b.cuda()).cpu()"
   ]
  },
  {
   "cell_type": "code",
   "execution_count": 11,
   "id": "Nj0oy6v6BuHh",
   "metadata": {
    "colab": {
     "base_uri": "https://localhost:8080/"
    },
    "id": "Nj0oy6v6BuHh",
    "outputId": "dc0cfa7c-fb5a-4482-9b00-64b9a5af06ee",
    "pycharm": {
     "name": "#%%\n"
    }
   },
   "outputs": [
    {
     "data": {
      "text/plain": [
       "tensor([[0.2101, 0.7783, 0.0119,  ..., 0.2345, 0.4446, 0.3548],\n",
       "        [0.5575, 0.0379, 0.1153,  ..., 0.5127, 0.0144, 0.0726],\n",
       "        [0.4991, 0.4492, 0.0663,  ..., 0.0275, 0.2469, 0.4349],\n",
       "        ...,\n",
       "        [0.2447, 0.7496, 0.0983,  ..., 0.4098, 0.8258, 0.1924],\n",
       "        [0.5483, 0.1743, 0.2153,  ..., 0.2263, 0.0266, 0.2630],\n",
       "        [0.0858, 0.1262, 0.8274,  ..., 0.0745, 0.1080, 0.5509]])"
      ]
     },
     "execution_count": 11,
     "metadata": {},
     "output_type": "execute_result"
    }
   ],
   "source": [
    "c"
   ]
  },
  {
   "cell_type": "code",
   "execution_count": 12,
   "id": "NYCmpYyJBvsF",
   "metadata": {
    "colab": {
     "base_uri": "https://localhost:8080/"
    },
    "id": "NYCmpYyJBvsF",
    "outputId": "ad33961f-20d0-4bfe-98c3-4ea202af0916",
    "pycharm": {
     "name": "#%%\n"
    }
   },
   "outputs": [
    {
     "data": {
      "text/plain": [
       "tensor([[0.4470, 0.9106, 0.0318,  ..., 0.3073, 0.5435, 0.7625],\n",
       "        [0.6672, 0.0461, 0.1814,  ..., 0.9921, 0.0993, 0.3906],\n",
       "        [0.5613, 0.8714, 0.2699,  ..., 0.9963, 0.5024, 0.6323],\n",
       "        ...,\n",
       "        [0.2742, 0.7913, 0.1289,  ..., 0.9805, 0.9051, 0.2221],\n",
       "        [0.6752, 0.8175, 0.4985,  ..., 0.5320, 0.0400, 0.4401],\n",
       "        [0.3567, 0.3419, 0.8576,  ..., 0.2308, 0.2162, 0.7999]])"
      ]
     },
     "execution_count": 12,
     "metadata": {},
     "output_type": "execute_result"
    }
   ],
   "source": [
    "a"
   ]
  },
  {
   "cell_type": "code",
   "execution_count": 13,
   "id": "ll5BQZ4MByTa",
   "metadata": {
    "id": "ll5BQZ4MByTa",
    "pycharm": {
     "name": "#%%\n"
    }
   },
   "outputs": [],
   "source": [
    "a = torch.FloatTensor(10000, 10000).uniform_().cpu()\n",
    "b = torch.FloatTensor(10000, 10000).uniform_().cuda()"
   ]
  },
  {
   "cell_type": "code",
   "execution_count": 14,
   "id": "-igtriMKBz2o",
   "metadata": {
    "colab": {
     "base_uri": "https://localhost:8080/",
     "height": 165
    },
    "id": "-igtriMKBz2o",
    "outputId": "d1f2d749-82ff-4743-ddab-10039b96b2ed",
    "pycharm": {
     "name": "#%%\n"
    }
   },
   "outputs": [
    {
     "ename": "RuntimeError",
     "evalue": "ignored",
     "output_type": "error",
     "traceback": [
      "\u001B[0;31m---------------------------------------------------------------------------\u001B[0m",
      "\u001B[0;31mRuntimeError\u001B[0m                              Traceback (most recent call last)",
      "\u001B[0;32m<ipython-input-14-bd58363a63fc>\u001B[0m in \u001B[0;36m<module>\u001B[0;34m\u001B[0m\n\u001B[0;32m----> 1\u001B[0;31m \u001B[0ma\u001B[0m \u001B[0;34m+\u001B[0m \u001B[0mb\u001B[0m\u001B[0;34m\u001B[0m\u001B[0;34m\u001B[0m\u001B[0m\n\u001B[0m",
      "\u001B[0;31mRuntimeError\u001B[0m: Expected all tensors to be on the same device, but found at least two devices, cuda:0 and cpu!"
     ]
    }
   ],
   "source": [
    "a + b"
   ]
  },
  {
   "cell_type": "code",
   "execution_count": 15,
   "id": "kuHqv52HB29P",
   "metadata": {
    "colab": {
     "base_uri": "https://localhost:8080/"
    },
    "id": "kuHqv52HB29P",
    "outputId": "37ffcb8e-87c9-4ee3-9c13-b7cfa0eadc3f",
    "pycharm": {
     "name": "#%%\n"
    }
   },
   "outputs": [
    {
     "name": "stdout",
     "output_type": "stream",
     "text": [
      "tensor([[[1.3552, 1.8215, 1.7672, 1.2356, 1.1383],\n",
      "         [1.3993, 1.6360, 1.8957, 1.5835, 1.6944],\n",
      "         [1.3540, 1.8847, 1.3984, 1.6148, 1.5952],\n",
      "         [1.2629, 1.2318, 1.5038, 1.8880, 1.1291],\n",
      "         [1.1284, 1.4111, 1.0570, 1.3003, 1.4138]],\n",
      "\n",
      "        [[1.9621, 1.4772, 1.2717, 1.0672, 1.4829],\n",
      "         [1.9975, 1.1181, 1.2531, 1.1154, 1.0030],\n",
      "         [1.4026, 1.2004, 1.5743, 1.6221, 1.1254],\n",
      "         [1.8483, 1.0030, 1.4354, 1.9777, 1.5847],\n",
      "         [1.4686, 1.4975, 1.7330, 1.3408, 1.5936]],\n",
      "\n",
      "        [[1.9956, 1.9421, 1.5243, 1.2891, 1.6570],\n",
      "         [1.5510, 1.0597, 1.7464, 1.0766, 1.6889],\n",
      "         [1.1834, 1.4618, 1.9692, 1.4843, 1.4072],\n",
      "         [1.0687, 1.8049, 1.7945, 1.0943, 1.5807],\n",
      "         [1.9025, 1.3959, 1.2021, 1.7590, 1.0765]],\n",
      "\n",
      "        [[1.9849, 1.7507, 1.2985, 1.3103, 1.5122],\n",
      "         [1.4739, 1.7433, 1.8085, 1.4678, 1.1713],\n",
      "         [1.0194, 1.9726, 1.9153, 1.2831, 1.3075],\n",
      "         [1.6898, 1.7593, 1.1941, 1.8411, 1.9823],\n",
      "         [1.8683, 1.4186, 1.2242, 1.4106, 1.0050]],\n",
      "\n",
      "        [[1.4594, 1.0040, 1.2087, 1.9482, 1.3393],\n",
      "         [1.4433, 1.9055, 1.8422, 1.4196, 1.5043],\n",
      "         [1.3445, 1.9940, 1.4246, 1.0775, 1.2403],\n",
      "         [1.0237, 1.7581, 1.2918, 1.4405, 1.4800],\n",
      "         [1.1281, 1.5238, 1.5100, 1.9496, 1.5146]]], device='cuda:0')\n",
      "tensor([[[1.3552, 1.8215, 1.7672, 1.2356, 1.1383],\n",
      "         [1.3993, 1.6360, 1.8957, 1.5835, 1.6944],\n",
      "         [1.3540, 1.8847, 1.3984, 1.6148, 1.5952],\n",
      "         [1.2629, 1.2318, 1.5038, 1.8880, 1.1291],\n",
      "         [1.1284, 1.4111, 1.0570, 1.3003, 1.4138]],\n",
      "\n",
      "        [[1.9621, 1.4772, 1.2717, 1.0672, 1.4829],\n",
      "         [1.9975, 1.1181, 1.2531, 1.1154, 1.0030],\n",
      "         [1.4026, 1.2004, 1.5743, 1.6221, 1.1254],\n",
      "         [1.8483, 1.0030, 1.4354, 1.9777, 1.5847],\n",
      "         [1.4686, 1.4975, 1.7330, 1.3408, 1.5936]],\n",
      "\n",
      "        [[1.9956, 1.9421, 1.5243, 1.2891, 1.6570],\n",
      "         [1.5510, 1.0597, 1.7464, 1.0766, 1.6889],\n",
      "         [1.1834, 1.4618, 1.9692, 1.4843, 1.4072],\n",
      "         [1.0687, 1.8049, 1.7945, 1.0943, 1.5807],\n",
      "         [1.9025, 1.3959, 1.2021, 1.7590, 1.0765]],\n",
      "\n",
      "        [[1.9849, 1.7507, 1.2985, 1.3103, 1.5122],\n",
      "         [1.4739, 1.7433, 1.8085, 1.4678, 1.1713],\n",
      "         [1.0194, 1.9726, 1.9153, 1.2831, 1.3075],\n",
      "         [1.6898, 1.7593, 1.1941, 1.8411, 1.9823],\n",
      "         [1.8683, 1.4186, 1.2242, 1.4106, 1.0050]],\n",
      "\n",
      "        [[1.4594, 1.0040, 1.2087, 1.9482, 1.3393],\n",
      "         [1.4433, 1.9055, 1.8422, 1.4196, 1.5043],\n",
      "         [1.3445, 1.9940, 1.4246, 1.0775, 1.2403],\n",
      "         [1.0237, 1.7581, 1.2918, 1.4405, 1.4800],\n",
      "         [1.1281, 1.5238, 1.5100, 1.9496, 1.5146]]], dtype=torch.float64)\n"
     ]
    }
   ],
   "source": [
    "x = torch.FloatTensor(5, 5, 5).uniform_()\n",
    "\n",
    "if torch.cuda.is_available():\n",
    "    device = torch.device('cuda')\n",
    "    y = torch.ones_like(x, device=device)\n",
    "    x = x.to(device)\n",
    "    z = x + y\n",
    "    print(z)\n",
    "    print(z.to(\"cpu\", torch.double))"
   ]
  },
  {
   "cell_type": "code",
   "execution_count": 16,
   "id": "KictXzIZCDbw",
   "metadata": {
    "id": "KictXzIZCDbw",
    "pycharm": {
     "name": "#%%\n"
    }
   },
   "outputs": [],
   "source": [
    "from torch.autograd import Variable"
   ]
  },
  {
   "cell_type": "code",
   "execution_count": 17,
   "id": "szbaLf6eCFQY",
   "metadata": {
    "id": "szbaLf6eCFQY",
    "pycharm": {
     "name": "#%%\n"
    }
   },
   "outputs": [],
   "source": [
    "x = torch.FloatTensor(3, 1).uniform_()\n",
    "y = torch.FloatTensor(3, 1).uniform_()\n",
    "w = torch.FloatTensor(3, 3).uniform_() \n",
    "b = torch.FloatTensor(3, 1).uniform_()\n",
    "\n",
    "x = Variable(x, requires_grad=True)\n",
    "y = Variable(x, requires_grad=False)\n",
    "w = Variable(w, requires_grad=True)\n",
    "b = Variable(b, requires_grad=True)\n",
    "\n",
    "y_pred = (w @ x).add_(b)\n",
    "\n",
    "loss = (y_pred - y).sum()\n",
    "\n",
    "loss.backward()"
   ]
  },
  {
   "cell_type": "code",
   "execution_count": 18,
   "id": "3X548Y9_CHhT",
   "metadata": {
    "colab": {
     "base_uri": "https://localhost:8080/"
    },
    "id": "3X548Y9_CHhT",
    "outputId": "cfc4583f-c271-4ae3-8d3d-1d37d8b5686c",
    "pycharm": {
     "name": "#%%\n"
    }
   },
   "outputs": [
    {
     "data": {
      "text/plain": [
       "tensor([[1.4785],\n",
       "        [1.5792],\n",
       "        [1.0346]])"
      ]
     },
     "execution_count": 18,
     "metadata": {},
     "output_type": "execute_result"
    }
   ],
   "source": [
    "x.grad"
   ]
  },
  {
   "cell_type": "code",
   "execution_count": 19,
   "id": "DhxkkpSdCLq4",
   "metadata": {
    "colab": {
     "base_uri": "https://localhost:8080/"
    },
    "id": "DhxkkpSdCLq4",
    "outputId": "42fa7487-f38f-4957-9ea1-da09ef6a83dd",
    "pycharm": {
     "name": "#%%\n"
    }
   },
   "outputs": [
    {
     "data": {
      "text/plain": [
       "tensor([[0.6744],\n",
       "        [0.4903],\n",
       "        [0.6466]])"
      ]
     },
     "execution_count": 19,
     "metadata": {},
     "output_type": "execute_result"
    }
   ],
   "source": [
    "x.data"
   ]
  }
 ],
 "metadata": {
  "accelerator": "GPU",
  "colab": {
   "provenance": []
  },
  "gpuClass": "standard",
  "kernelspec": {
   "display_name": "Python 3 (ipykernel)",
   "language": "python",
   "name": "python3"
  },
  "language_info": {
   "codemirror_mode": {
    "name": "ipython",
    "version": 3
   },
   "file_extension": ".py",
   "mimetype": "text/x-python",
   "name": "python",
   "nbconvert_exporter": "python",
   "pygments_lexer": "ipython3",
   "version": "3.9.15"
  }
 },
 "nbformat": 4,
 "nbformat_minor": 5
}