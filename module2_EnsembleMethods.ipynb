{
 "cells": [
  {
   "cell_type": "code",
   "execution_count": 1,
   "id": "679875d2",
   "metadata": {
    "pycharm": {
     "name": "#%%\n"
    }
   },
   "outputs": [],
   "source": [
    "import pandas as pd\n",
    "from sklearn.preprocessing import StandardScaler\n",
    "from sklearn.model_selection import train_test_split\n",
    "from sklearn.model_selection import GridSearchCV\n",
    "from sklearn import metrics"
   ]
  },
  {
   "cell_type": "code",
   "execution_count": 2,
   "id": "f0aa5937",
   "metadata": {
    "pycharm": {
     "name": "#%%\n"
    }
   },
   "outputs": [
    {
     "data": {
      "text/html": [
       "<div>\n",
       "<style scoped>\n",
       "    .dataframe tbody tr th:only-of-type {\n",
       "        vertical-align: middle;\n",
       "    }\n",
       "\n",
       "    .dataframe tbody tr th {\n",
       "        vertical-align: top;\n",
       "    }\n",
       "\n",
       "    .dataframe thead th {\n",
       "        text-align: right;\n",
       "    }\n",
       "</style>\n",
       "<table border=\"1\" class=\"dataframe\">\n",
       "  <thead>\n",
       "    <tr style=\"text-align: right;\">\n",
       "      <th></th>\n",
       "      <th>Page total likes</th>\n",
       "      <th>Type</th>\n",
       "      <th>Category</th>\n",
       "      <th>Post Month</th>\n",
       "      <th>Post Weekday</th>\n",
       "      <th>Post Hour</th>\n",
       "      <th>Paid</th>\n",
       "      <th>Lifetime Post Total Reach</th>\n",
       "      <th>Lifetime Post Total Impressions</th>\n",
       "      <th>Lifetime Engaged Users</th>\n",
       "      <th>Lifetime Post Consumers</th>\n",
       "      <th>Lifetime Post Consumptions</th>\n",
       "      <th>Lifetime Post Impressions by people who have liked your Page</th>\n",
       "      <th>Lifetime Post reach by people who like your Page</th>\n",
       "      <th>Lifetime People who have liked your Page and engaged with your post</th>\n",
       "      <th>comment</th>\n",
       "      <th>like</th>\n",
       "      <th>share</th>\n",
       "      <th>Total Interactions</th>\n",
       "    </tr>\n",
       "  </thead>\n",
       "  <tbody>\n",
       "    <tr>\n",
       "      <th>0</th>\n",
       "      <td>139441</td>\n",
       "      <td>Photo</td>\n",
       "      <td>2</td>\n",
       "      <td>12</td>\n",
       "      <td>4.0</td>\n",
       "      <td>3</td>\n",
       "      <td>0.0</td>\n",
       "      <td>2752.0</td>\n",
       "      <td>5091.0</td>\n",
       "      <td>178.0</td>\n",
       "      <td>109.0</td>\n",
       "      <td>159.0</td>\n",
       "      <td>3078.0</td>\n",
       "      <td>1640.0</td>\n",
       "      <td>119.0</td>\n",
       "      <td>4.0</td>\n",
       "      <td>79.0</td>\n",
       "      <td>17.0</td>\n",
       "      <td>100</td>\n",
       "    </tr>\n",
       "    <tr>\n",
       "      <th>1</th>\n",
       "      <td>139441</td>\n",
       "      <td>Status</td>\n",
       "      <td>2</td>\n",
       "      <td>12</td>\n",
       "      <td>3.0</td>\n",
       "      <td>10</td>\n",
       "      <td>0.0</td>\n",
       "      <td>10460.0</td>\n",
       "      <td>19057.0</td>\n",
       "      <td>1457.0</td>\n",
       "      <td>1361.0</td>\n",
       "      <td>1674.0</td>\n",
       "      <td>11710.0</td>\n",
       "      <td>6112.0</td>\n",
       "      <td>1108.0</td>\n",
       "      <td>5.0</td>\n",
       "      <td>130.0</td>\n",
       "      <td>29.0</td>\n",
       "      <td>164</td>\n",
       "    </tr>\n",
       "    <tr>\n",
       "      <th>2</th>\n",
       "      <td>139441</td>\n",
       "      <td>Photo</td>\n",
       "      <td>3</td>\n",
       "      <td>12</td>\n",
       "      <td>3.0</td>\n",
       "      <td>3</td>\n",
       "      <td>0.0</td>\n",
       "      <td>2413.0</td>\n",
       "      <td>4373.0</td>\n",
       "      <td>177.0</td>\n",
       "      <td>113.0</td>\n",
       "      <td>154.0</td>\n",
       "      <td>2812.0</td>\n",
       "      <td>1503.0</td>\n",
       "      <td>132.0</td>\n",
       "      <td>0.0</td>\n",
       "      <td>66.0</td>\n",
       "      <td>14.0</td>\n",
       "      <td>80</td>\n",
       "    </tr>\n",
       "    <tr>\n",
       "      <th>3</th>\n",
       "      <td>139441</td>\n",
       "      <td>Photo</td>\n",
       "      <td>2</td>\n",
       "      <td>12</td>\n",
       "      <td>2.0</td>\n",
       "      <td>10</td>\n",
       "      <td>1.0</td>\n",
       "      <td>50128.0</td>\n",
       "      <td>87991.0</td>\n",
       "      <td>2211.0</td>\n",
       "      <td>790.0</td>\n",
       "      <td>1119.0</td>\n",
       "      <td>61027.0</td>\n",
       "      <td>32048.0</td>\n",
       "      <td>1386.0</td>\n",
       "      <td>58.0</td>\n",
       "      <td>1572.0</td>\n",
       "      <td>147.0</td>\n",
       "      <td>1777</td>\n",
       "    </tr>\n",
       "    <tr>\n",
       "      <th>4</th>\n",
       "      <td>139441</td>\n",
       "      <td>Photo</td>\n",
       "      <td>2</td>\n",
       "      <td>12</td>\n",
       "      <td>2.0</td>\n",
       "      <td>3</td>\n",
       "      <td>0.0</td>\n",
       "      <td>7244.0</td>\n",
       "      <td>13594.0</td>\n",
       "      <td>671.0</td>\n",
       "      <td>410.0</td>\n",
       "      <td>580.0</td>\n",
       "      <td>6228.0</td>\n",
       "      <td>3200.0</td>\n",
       "      <td>396.0</td>\n",
       "      <td>19.0</td>\n",
       "      <td>325.0</td>\n",
       "      <td>49.0</td>\n",
       "      <td>393</td>\n",
       "    </tr>\n",
       "  </tbody>\n",
       "</table>\n",
       "</div>"
      ],
      "text/plain": [
       "   Page total likes    Type  Category  Post Month  Post Weekday  Post Hour  \\\n",
       "0            139441   Photo         2          12           4.0          3   \n",
       "1            139441  Status         2          12           3.0         10   \n",
       "2            139441   Photo         3          12           3.0          3   \n",
       "3            139441   Photo         2          12           2.0         10   \n",
       "4            139441   Photo         2          12           2.0          3   \n",
       "\n",
       "   Paid  Lifetime Post Total Reach  Lifetime Post Total Impressions  \\\n",
       "0   0.0                     2752.0                           5091.0   \n",
       "1   0.0                    10460.0                          19057.0   \n",
       "2   0.0                     2413.0                           4373.0   \n",
       "3   1.0                    50128.0                          87991.0   \n",
       "4   0.0                     7244.0                          13594.0   \n",
       "\n",
       "   Lifetime Engaged Users  Lifetime Post Consumers  \\\n",
       "0                   178.0                    109.0   \n",
       "1                  1457.0                   1361.0   \n",
       "2                   177.0                    113.0   \n",
       "3                  2211.0                    790.0   \n",
       "4                   671.0                    410.0   \n",
       "\n",
       "   Lifetime Post Consumptions  \\\n",
       "0                       159.0   \n",
       "1                      1674.0   \n",
       "2                       154.0   \n",
       "3                      1119.0   \n",
       "4                       580.0   \n",
       "\n",
       "   Lifetime Post Impressions by people who have liked your Page  \\\n",
       "0                                             3078.0              \n",
       "1                                            11710.0              \n",
       "2                                             2812.0              \n",
       "3                                            61027.0              \n",
       "4                                             6228.0              \n",
       "\n",
       "   Lifetime Post reach by people who like your Page  \\\n",
       "0                                            1640.0   \n",
       "1                                            6112.0   \n",
       "2                                            1503.0   \n",
       "3                                           32048.0   \n",
       "4                                            3200.0   \n",
       "\n",
       "   Lifetime People who have liked your Page and engaged with your post  \\\n",
       "0                                              119.0                     \n",
       "1                                             1108.0                     \n",
       "2                                              132.0                     \n",
       "3                                             1386.0                     \n",
       "4                                              396.0                     \n",
       "\n",
       "   comment    like  share  Total Interactions  \n",
       "0      4.0    79.0   17.0                 100  \n",
       "1      5.0   130.0   29.0                 164  \n",
       "2      0.0    66.0   14.0                  80  \n",
       "3     58.0  1572.0  147.0                1777  \n",
       "4     19.0   325.0   49.0                 393  "
      ]
     },
     "execution_count": 2,
     "metadata": {},
     "output_type": "execute_result"
    }
   ],
   "source": [
    "df = pd.read_csv('dataset_Facebook.csv',sep=';')\n",
    "df.head()"
   ]
  },
  {
   "cell_type": "code",
   "execution_count": 3,
   "id": "0d748875",
   "metadata": {
    "pycharm": {
     "name": "#%%\n"
    }
   },
   "outputs": [
    {
     "name": "stdout",
     "output_type": "stream",
     "text": [
      "<class 'pandas.core.frame.DataFrame'>\n",
      "RangeIndex: 500 entries, 0 to 499\n",
      "Data columns (total 19 columns):\n",
      " #   Column                                                               Non-Null Count  Dtype  \n",
      "---  ------                                                               --------------  -----  \n",
      " 0   Page total likes                                                     500 non-null    int64  \n",
      " 1   Type                                                                 496 non-null    object \n",
      " 2   Category                                                             500 non-null    int64  \n",
      " 3   Post Month                                                           500 non-null    int64  \n",
      " 4   Post Weekday                                                         496 non-null    float64\n",
      " 5   Post Hour                                                            500 non-null    int64  \n",
      " 6   Paid                                                                 497 non-null    float64\n",
      " 7   Lifetime Post Total Reach                                            496 non-null    float64\n",
      " 8   Lifetime Post Total Impressions                                      499 non-null    float64\n",
      " 9   Lifetime Engaged Users                                               496 non-null    float64\n",
      " 10  Lifetime Post Consumers                                              484 non-null    float64\n",
      " 11  Lifetime Post Consumptions                                           497 non-null    float64\n",
      " 12  Lifetime Post Impressions by people who have liked your Page         498 non-null    float64\n",
      " 13  Lifetime Post reach by people who like your Page                     498 non-null    float64\n",
      " 14  Lifetime People who have liked your Page and engaged with your post  488 non-null    float64\n",
      " 15  comment                                                              497 non-null    float64\n",
      " 16  like                                                                 499 non-null    float64\n",
      " 17  share                                                                486 non-null    float64\n",
      " 18  Total Interactions                                                   500 non-null    int64  \n",
      "dtypes: float64(13), int64(5), object(1)\n",
      "memory usage: 74.3+ KB\n"
     ]
    }
   ],
   "source": [
    "df.info()"
   ]
  },
  {
   "cell_type": "code",
   "execution_count": 4,
   "id": "dbc56307",
   "metadata": {
    "pycharm": {
     "name": "#%%\n"
    }
   },
   "outputs": [],
   "source": [
    "df = pd.get_dummies(df, columns=['Type'])\n",
    "df = df.dropna()"
   ]
  },
  {
   "cell_type": "code",
   "execution_count": 5,
   "id": "2b938784",
   "metadata": {
    "pycharm": {
     "name": "#%%\n"
    }
   },
   "outputs": [],
   "source": [
    "y = df['Paid']\n",
    "X = df.drop('Paid',axis=1)"
   ]
  },
  {
   "cell_type": "code",
   "execution_count": 10,
   "id": "70af4352",
   "metadata": {
    "pycharm": {
     "name": "#%%\n"
    }
   },
   "outputs": [],
   "source": [
    "X_train, X_test, y_train, y_test = train_test_split(X, y, test_size=0.3, random_state=42)"
   ]
  },
  {
   "cell_type": "code",
   "execution_count": 12,
   "id": "a1bdfaee",
   "metadata": {
    "pycharm": {
     "name": "#%%\n"
    }
   },
   "outputs": [
    {
     "name": "stdout",
     "output_type": "stream",
     "text": [
      "precision 0.5833333333333334\n",
      "recall 0.19444444444444445\n",
      "accuracy 0.7443609022556391\n",
      "f1 0.2916666666666667\n"
     ]
    }
   ],
   "source": [
    "from sklearn.ensemble import RandomForestClassifier\n",
    "model = RandomForestClassifier(n_estimators=2000)\n",
    "model.fit(X_train, y_train)\n",
    "predict = model.predict(X_test)\n",
    "\n",
    "print('precision', metrics.precision_score(y_test, predict))\n",
    "print('recall', metrics.recall_score(y_test, predict))\n",
    "print('accuracy', metrics.accuracy_score(y_test, predict))\n",
    "print('f1', metrics.f1_score(y_test, predict))"
   ]
  },
  {
   "cell_type": "code",
   "execution_count": 13,
   "id": "0412eb75",
   "metadata": {
    "pycharm": {
     "name": "#%%\n"
    }
   },
   "outputs": [
    {
     "data": {
      "text/plain": [
       "(-0.01, 1.01)"
      ]
     },
     "execution_count": 13,
     "metadata": {},
     "output_type": "execute_result"
    },
    {
     "data": {
      "image/png": "[encoded data removed]",
      "text/plain": [
       "<Figure size 360x360 with 1 Axes>"
      ]
     },
     "metadata": {
      "needs_background": "light"
     },
     "output_type": "display_data"
    }
   ],
   "source": [
    "predict_proba = model.predict_proba(X_test)\n",
    "%matplotlib inline\n",
    "from matplotlib import pyplot as plt\n",
    "from sklearn.metrics import roc_auc_score, roc_curve\n",
    "fpr, tpr, thresholds = roc_curve(y_test, predict_proba[:,1])\n",
    "plt.figure(figsize=(5, 5))\n",
    "plt.plot(fpr, tpr)\n",
    "plt.plot([0, 1], [0, 1])\n",
    "plt.ylabel('tpr')\n",
    "plt.xlabel('fpr')\n",
    "plt.grid(True)\n",
    "plt.title('ROC curve')\n",
    "plt.xlim((-0.01, 1.01))\n",
    "plt.ylim((-0.01, 1.01))"
   ]
  },
  {
   "cell_type": "code",
   "execution_count": 14,
   "id": "8f068d0f",
   "metadata": {
    "pycharm": {
     "name": "#%%\n"
    }
   },
   "outputs": [
    {
     "name": "stdout",
     "output_type": "stream",
     "text": [
      "<class 'pandas.core.frame.DataFrame'>\n",
      "RangeIndex: 500 entries, 0 to 499\n",
      "Data columns (total 22 columns):\n",
      " #   Column                                                               Non-Null Count  Dtype  \n",
      "---  ------                                                               --------------  -----  \n",
      " 0   Page total likes                                                     500 non-null    int64  \n",
      " 1   Category                                                             500 non-null    int64  \n",
      " 2   Post Month                                                           500 non-null    int64  \n",
      " 3   Post Weekday                                                         496 non-null    float64\n",
      " 4   Post Hour                                                            500 non-null    int64  \n",
      " 5   Paid                                                                 497 non-null    float64\n",
      " 6   Lifetime Post Total Reach                                            496 non-null    float64\n",
      " 7   Lifetime Post Total Impressions                                      499 non-null    float64\n",
      " 8   Lifetime Engaged Users                                               496 non-null    float64\n",
      " 9   Lifetime Post Consumers                                              484 non-null    float64\n",
      " 10  Lifetime Post Consumptions                                           497 non-null    float64\n",
      " 11  Lifetime Post Impressions by people who have liked your Page         498 non-null    float64\n",
      " 12  Lifetime Post reach by people who like your Page                     498 non-null    float64\n",
      " 13  Lifetime People who have liked your Page and engaged with your post  488 non-null    float64\n",
      " 14  comment                                                              497 non-null    float64\n",
      " 15  like                                                                 499 non-null    float64\n",
      " 16  share                                                                486 non-null    float64\n",
      " 17  Total Interactions                                                   500 non-null    int64  \n",
      " 18  Type_Link                                                            500 non-null    uint8  \n",
      " 19  Type_Photo                                                           500 non-null    uint8  \n",
      " 20  Type_Status                                                          500 non-null    uint8  \n",
      " 21  Type_Video                                                           500 non-null    uint8  \n",
      "dtypes: float64(13), int64(5), uint8(4)\n",
      "memory usage: 72.4 KB\n"
     ]
    }
   ],
   "source": [
    "df = pd.read_csv('dataset_Facebook.csv',sep=';')\n",
    "df = pd.get_dummies(df, columns=['Type'])\n",
    "df.info()"
   ]
  },
  {
   "cell_type": "code",
   "execution_count": 15,
   "id": "39f99bec",
   "metadata": {
    "pycharm": {
     "name": "#%%\n"
    }
   },
   "outputs": [],
   "source": [
    "for i in df.columns:\n",
    "    df.loc[df[i].isnull(), i] = df[i].median()"
   ]
  },
  {
   "cell_type": "code",
   "execution_count": 16,
   "id": "f5dc82a1",
   "metadata": {
    "pycharm": {
     "name": "#%%\n"
    }
   },
   "outputs": [
    {
     "name": "stdout",
     "output_type": "stream",
     "text": [
      "<class 'pandas.core.frame.DataFrame'>\n",
      "RangeIndex: 500 entries, 0 to 499\n",
      "Data columns (total 22 columns):\n",
      " #   Column                                                               Non-Null Count  Dtype  \n",
      "---  ------                                                               --------------  -----  \n",
      " 0   Page total likes                                                     500 non-null    int64  \n",
      " 1   Category                                                             500 non-null    int64  \n",
      " 2   Post Month                                                           500 non-null    int64  \n",
      " 3   Post Weekday                                                         500 non-null    float64\n",
      " 4   Post Hour                                                            500 non-null    int64  \n",
      " 5   Paid                                                                 500 non-null    float64\n",
      " 6   Lifetime Post Total Reach                                            500 non-null    float64\n",
      " 7   Lifetime Post Total Impressions                                      500 non-null    float64\n",
      " 8   Lifetime Engaged Users                                               500 non-null    float64\n",
      " 9   Lifetime Post Consumers                                              500 non-null    float64\n",
      " 10  Lifetime Post Consumptions                                           500 non-null    float64\n",
      " 11  Lifetime Post Impressions by people who have liked your Page         500 non-null    float64\n",
      " 12  Lifetime Post reach by people who like your Page                     500 non-null    float64\n",
      " 13  Lifetime People who have liked your Page and engaged with your post  500 non-null    float64\n",
      " 14  comment                                                              500 non-null    float64\n",
      " 15  like                                                                 500 non-null    float64\n",
      " 16  share                                                                500 non-null    float64\n",
      " 17  Total Interactions                                                   500 non-null    float64\n",
      " 18  Type_Link                                                            500 non-null    uint8  \n",
      " 19  Type_Photo                                                           500 non-null    uint8  \n",
      " 20  Type_Status                                                          500 non-null    uint8  \n",
      " 21  Type_Video                                                           500 non-null    uint8  \n",
      "dtypes: float64(14), int64(4), uint8(4)\n",
      "memory usage: 72.4 KB\n"
     ]
    }
   ],
   "source": [
    "df.info()"
   ]
  },
  {
   "cell_type": "code",
   "execution_count": 52,
   "id": "4cc71eb2",
   "metadata": {
    "pycharm": {
     "name": "#%%\n"
    }
   },
   "outputs": [],
   "source": [
    "y = df['Paid']\n",
    "X = df.drop('Paid',axis=1)\n",
    "X_train, X_test, y_train, y_test = train_test_split(X, y, test_size=0.2, random_state=42)"
   ]
  },
  {
   "cell_type": "code",
   "execution_count": 64,
   "id": "df28d341",
   "metadata": {
    "pycharm": {
     "name": "#%%\n"
    }
   },
   "outputs": [],
   "source": [
    "import xgboost as xgb\n",
    "dtrain = xgb.DMatrix(X_train, label=y_train)\n",
    "dtest = xgb.DMatrix(X_test, label=y_test)\n",
    "param = {\n",
    "   'max_depth': 3,\n",
    "   'eta': 0.3, \n",
    "   'objective': 'multi:softprob',\n",
    "   'num_class': 3}\n",
    "num_round = 15"
   ]
  },
  {
   "cell_type": "code",
   "execution_count": 65,
   "id": "dbf0f284",
   "metadata": {
    "pycharm": {
     "name": "#%%\n"
    }
   },
   "outputs": [],
   "source": [
    "bst = xgb.train(param, dtrain, num_round)\n",
    "preds = bst.predict(dtest)"
   ]
  },
  {
   "cell_type": "code",
   "execution_count": 66,
   "id": "74daae3a",
   "metadata": {
    "pycharm": {
     "name": "#%%\n"
    }
   },
   "outputs": [
    {
     "data": {
      "text/plain": [
       "0.6111111111111112"
      ]
     },
     "execution_count": 66,
     "metadata": {},
     "output_type": "execute_result"
    }
   ],
   "source": [
    "import numpy as np\n",
    "best_preds = np.asarray([np.argmax(line) for line in preds])\n",
    "metrics.precision_score(y_test, best_preds, average='macro')"
   ]
  }
 ],
 "metadata": {
  "kernelspec": {
   "display_name": "Python 3 (ipykernel)",
   "language": "python",
   "name": "python3"
  },
  "language_info": {
   "codemirror_mode": {
    "name": "ipython",
    "version": 3
   },
   "file_extension": ".py",
   "mimetype": "text/x-python",
   "name": "python",
   "nbconvert_exporter": "python",
   "pygments_lexer": "ipython3",
   "version": "3.9.12"
  }
 },
 "nbformat": 4,
 "nbformat_minor": 5
}